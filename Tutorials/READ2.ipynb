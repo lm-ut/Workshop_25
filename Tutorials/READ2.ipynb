{
 "cells": [
  {
   "cell_type": "markdown",
   "id": "b0b5b3e3-c324-4d00-b854-530dd5c28544",
   "metadata": {},
   "source": [
    "# Detecting 1-3rd degree relationships with READ2\n",
    "This script uses pseudo-haploid genotype calls as an input and READ2 method to detect 1-3rd degree relationships among the individuals. \n",
    "\n",
    "Resources: https://github.com/GuntherLab/READv2\n",
    "\n",
    "\n",
    "This all below ran in 7 mins\n",
    "replace the N-s in the ANGSD output with 0-s as a PLINK code for missing data in tped format\n",
    "\n",
    "sed -i.bak 's/N/0/g' angsd_output.tped"
   ]
  },
  {
   "cell_type": "code",
   "execution_count": null,
   "id": "fdfc567e-466c-4452-adb2-cf5201ae0f19",
   "metadata": {},
   "outputs": [],
   "source": [
    "#!/bin/bash\n",
    "#SBATCH -J READ2\n",
    "#SBATCH --time=1:00:00\n",
    "#SBATCH --ntasks=1\n",
    "#SBATCH --mem=5g\n",
    "#SBATCH -A ealloc_e7679_project1-tk-echo\n",
    "#SBATCH --nodes=1\n",
    "#SBATCH --output=READ2.txt\n",
    "\n",
    "module load any/plink/1.9\n",
    "module load readv2/2.00\n",
    "\n",
    "# Detecting 1-3rd degree relationships with READ2\n",
    "# This script uses pseudo-haploid genotype calls as an input and READ2 method to detect 1-3rd degree relationships among the individuals. \n",
    "# https://github.com/GuntherLab/READv2\n",
    "# This all below ran in 7 mins\n",
    "# replace the N-s in the ANGSD output with 0-s as a PLINK code for missing data in tped format\n",
    "# sed -i.bak 's/N/0/g' angsd_output.tped\n",
    "\n",
    "# As READ2 takes PLINK .bed files as input convert the .tped to .bed with PLINK\n",
    "plink --tfile angsd_output --make-bed --out g\n",
    "\n",
    "# Prepare .fam file with information from bamlist (otherwise the ANGSD output is ind0, ind1...)\n",
    "sed -e 's#/gpfs/helios/projects/echo_workshops/project.1.tk/data/Gretzinger/##g' -e 's#.A0101.TF1.1.bam##g' -e 's#.A0101.SG1.2.bam##g' -e 's#.A0201.TF1.1.bam##g' -e 's#.SG1.2.bam##g' -e 's#.B0101.TF1.1.bam##g' -e 's#.TF1.1.bam##g' -e 's#.bam##g' /gpfs/helios/projects/echo_workshops/project.1.tk/data/ADN_HAD.bams >ids.txt\n",
    "\n",
    "# make a new .fam file with sample IDs\n",
    "mv g.fam g.ofam\n",
    "paste ids.txt ids.txt g.ofam|sed -e 's/ /\\t/g'|cut -f1,2,5-8 >g.fam\n",
    "\n",
    "# run READ2 kinship analysis\n",
    "READ2 -i g\n",
    "\n",
    "# extract result lines with P0<0.96 that should contain the cases of closest relatedness (1-3)\n",
    "awk 'BEGIN {FS=\"\\t\"}; $5<0.96' Read_Results.tsv|cut -f1,2,5,8 >READ_output_1_3.txt\n"
   ]
  }
 ],
 "metadata": {
  "kernelspec": {
   "display_name": "Python 3 (ipykernel)",
   "language": "python",
   "name": "python3"
  },
  "language_info": {
   "codemirror_mode": {
    "name": "ipython",
    "version": 3
   },
   "file_extension": ".py",
   "mimetype": "text/x-python",
   "name": "python",
   "nbconvert_exporter": "python",
   "pygments_lexer": "ipython3",
   "version": "3.12.6"
  }
 },
 "nbformat": 4,
 "nbformat_minor": 5
}
