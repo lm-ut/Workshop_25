{
 "cells": [
  {
   "cell_type": "markdown",
   "id": "e04b623f-29a2-430e-a685-a774efe622be",
   "metadata": {},
   "source": [
    "# Supervised ADMIXTURE"
   ]
  },
  {
   "cell_type": "markdown",
   "id": "81856db0-81d5-4868-88ea-c0d4a6563115",
   "metadata": {},
   "source": [
    "MANUAL: https://dalexander.github.io/admixture/admixture-manual.pdf\n",
    "\n",
    "Extract from ADMIXTURE manual:\n",
    "\n",
    "ADMIXTURE is a program for estimating ancestry in a model-based manner from large autosomal SNP genotype datasets, where the individuals are unrelated (for example, the individuals in a case-control association study)."
   ]
  },
  {
   "cell_type": "raw",
   "id": "8b47346b-64d0-4761-998e-cbe6cfe03b2a",
   "metadata": {},
   "source": [
    "To keep things tidy, let's create a directory for the supervised ADMIXTURE analyses"
   ]
  },
  {
   "cell_type": "markdown",
   "id": "37253a77-ed5a-4318-acc8-79618f2be9b3",
   "metadata": {},
   "source": [
    "mkdir SupervisedAdmixture"
   ]
  },
  {
   "cell_type": "code",
   "execution_count": null,
   "id": "763e5196-fe28-466c-a36d-49ef4aae7c74",
   "metadata": {},
   "outputs": [],
   "source": [
    "cd SupervisedAdmixture"
   ]
  },
  {
   "cell_type": "markdown",
   "id": "ac99b2c5-525e-4b78-aeb2-b854594ac48e",
   "metadata": {},
   "source": [
    "### Preparing the dataset\n",
    "\n",
    "We are going to use the PLINK files to run supervised ADMIXTURE. Our goal is to run supervised ADMIXTURE on the Koksijde samples, using as reference groups 1) Gauls (France Late Iron Age - LIA) 2) the Saxon Medieval (SM) Dutch samples.\n",
    "\n",
    "Let's also add the English Medieval samples from Cambridge as target, along with Koksijde, as a control.\n",
    "\n",
    "First, let's load plink"
   ]
  },
  {
   "cell_type": "code",
   "execution_count": null,
   "id": "56096256-a3e5-48bf-b20c-8902cf86c730",
   "metadata": {},
   "outputs": [],
   "source": [
    "module load plink/1.9-beta6.27"
   ]
  },
  {
   "cell_type": "markdown",
   "id": "e59ecd1b-dec7-4b1c-ade6-67858cdc474b",
   "metadata": {},
   "source": [
    "Now, we can subset the dataset, retrieving only the samples of interest, using the PLINK option `--keep`"
   ]
  },
  {
   "cell_type": "code",
   "execution_count": null,
   "id": "cbf103d6-2d48-4fec-a6ab-7f19519f6164",
   "metadata": {},
   "outputs": [],
   "source": [
    "egrep 'KoksijdeEMA.Anc|NedEMA.Anc|FranceLIA.Anc|UKCamEMA.Anc' non_imputed.fam  >> Samples_2_keep"
   ]
  },
  {
   "cell_type": "code",
   "execution_count": null,
   "id": "c542f92d-6fdb-458a-933e-7e9817222254",
   "metadata": {},
   "outputs": [],
   "source": [
    "plink --bfile non_imputed --keep Samples_2_keep --make-bed --out non_imputed_SupAdm"
   ]
  },
  {
   "cell_type": "markdown",
   "id": "1a42fac2-c19f-426c-9a62-763d5e1ee4da",
   "metadata": {},
   "source": [
    "\n",
    "ADMIXTURE does not explicitly model Linkage Disequilibrium (LD), so it is best practice to remove SNPs in LD.\n",
    "\n",
    "Using the software plink v1.9, we are going to first indentifying the SNPs that:\n",
    "\n",
    "- show a pariwise r^2 > 0.1\n",
    "- in a genomic window of 50 SNPs,\n",
    "- shifted by 10 SNPs at the end of each step\n",
    "  \n",
    "All the SNPs that exceed the 0.1 threshold, will then be removed"
   ]
  },
  {
   "cell_type": "markdown",
   "id": "148fd681-6ba6-4d6c-bf98-987510013051",
   "metadata": {},
   "source": [
    "For supervised ADMIXTURE analyses within the European continent, we need to retrieve at least 100K SNPs. Be sure that the `--indep-pairwise` parameters do not remove too many SNPs."
   ]
  },
  {
   "cell_type": "code",
   "execution_count": null,
   "id": "a9bec207-0c03-46dc-9a77-495d457de082",
   "metadata": {},
   "outputs": [],
   "source": [
    "plink --bfile non_imputed_SupAdm --indep-pairwise 50 10 0.2 --out SNPs_inLD"
   ]
  },
  {
   "cell_type": "markdown",
   "id": "ea6028d5-87c5-487f-8324-a214a5ae954b",
   "metadata": {},
   "source": [
    "The command `--indep-pairwise` will create two files: X.prune.in and X.prune.out, where as X plink will set the name we indicated as an argument of the command `--output`.\n",
    "\n",
    "We will now remove the SNPs that pass the 0.1 threshold, with the plink command `--exclude` and the `file.prune.out` created by the `--indep-pairwise` command."
   ]
  },
  {
   "cell_type": "code",
   "execution_count": null,
   "id": "3a3671ce-bf18-416a-99fe-2d41f5829b4a",
   "metadata": {},
   "outputs": [],
   "source": [
    " plink --bfile non_imputed_SupAdm --exclude SNPs_inLD.prune.out --make-bed --out non_imputed_SupAdm_pruned "
   ]
  },
  {
   "cell_type": "markdown",
   "id": "0ead262d-4f85-4940-97c9-3ed5d9d24cb4",
   "metadata": {},
   "source": [
    "### Supervised Mode\n",
    "\n",
    "Supervised learning mode is enabled with the flag `--supervised` and requires an additional file with a .pop suffix. The prefix of the .pop file should be the same as the bed file. \n",
    "\n",
    "For example: \n",
    "- non_imputed_SupAdm_pruned.bed\n",
    "- non_imputed_SupAdm_pruned.bim\n",
    "- non_imputed_SupAdm_pruned.fam\n",
    "- non_imputed_SupAdm_pruned.pop"
   ]
  },
  {
   "cell_type": "markdown",
   "id": "76a1926a-5250-4b97-93f9-25e865185867",
   "metadata": {},
   "source": [
    "The pop file should contain the list of samples, in the same order they appear in the .fam file, with two additional columns specifying the ancestries of the reference individuals. \n",
    "\n",
    "From ADMIXTURE manual: if the individual is a population reference, the .pop file line should be a string (beginning with an alphanumeric character) designating the population. If the individual is of unknown ancestry, use “-” (or a blank line, or any non-alphanumeric character) to indicate that the ancestry should be estimated."
   ]
  },
  {
   "cell_type": "code",
   "execution_count": null,
   "id": "ec1519c4-f9a3-4053-bb8b-fa27857193c1",
   "metadata": {},
   "outputs": [],
   "source": [
    "head non_imputed_SupAdm_pruned.fam"
   ]
  },
  {
   "cell_type": "code",
   "execution_count": null,
   "id": "36c7a2bc-f375-460c-92e3-3eada495283e",
   "metadata": {},
   "outputs": [],
   "source": [
    "Eng.EM I11567 0 0 0 -9\n",
    "Eng.EM I11569 0 0 0 -9\n",
    "Eng.EM I11571 0 0 0 -9\n",
    "Eng.EM I11573 0 0 0 -9\n",
    "Eng.EM I11574 0 0 0 -9\n",
    "Eng.EM I11575 0 0 0 -9\n",
    "Eng.EM I11576 0 0 0 -9\n",
    "Eng.EM I11577 0 0 0 -9\n",
    "Eng.EM I11579 0 0 0 -9\n",
    "Eng.EM I11581 0 0 0 -9"
   ]
  },
  {
   "cell_type": "code",
   "execution_count": null,
   "id": "941c06c8-c23f-4f8a-8f51-b779000f7707",
   "metadata": {},
   "outputs": [],
   "source": [
    "head non_imputed_SupAdm_pruned.pop"
   ]
  },
  {
   "cell_type": "code",
   "execution_count": null,
   "id": "6cb2fe05-0be8-4c1d-8a92-0d0b1c56ce10",
   "metadata": {},
   "outputs": [],
   "source": [
    "-\tI11567\t0\t0\t0\t-9\t-\n",
    "-\tI11569\t0\t0\t0\t-9\t-\n",
    "-\tI11571\t0\t0\t0\t-9\t-\n",
    "-\tI11573\t0\t0\t0\t-9\t-\n",
    "-\tI11574\t0\t0\t0\t-9\t-\n",
    "-\tI11575\t0\t0\t0\t-9\t-\n",
    "-\tI11576\t0\t0\t0\t-9\t-\n",
    "-\tI11577\t0\t0\t0\t-9\t-\n",
    "-\tI11579\t0\t0\t0\t-9\t-\n",
    "-\tI11581\t0\t0\t0\t-9\t-"
   ]
  },
  {
   "cell_type": "markdown",
   "id": "33e8ce79-9615-47f9-9078-ae7e370a6600",
   "metadata": {},
   "source": [
    "Awk can help us creating the pop file:"
   ]
  },
  {
   "cell_type": "code",
   "execution_count": null,
   "id": "182507f4-173e-4796-a78e-53656e7ac8e3",
   "metadata": {},
   "outputs": [],
   "source": [
    "! awk '{ \\\n",
    "  if ($1 == \"FranceLIA.Anc\") \\\n",
    "    category = \"Gauls\"; \\\n",
    "  else if ($1 == \"NedEMA.Anc\")\\\n",
    "    category = \"Saxons\"; \\\n",
    "  else \\\n",
    "    category = \"-\"; \\\n",
    "  print category, $2, $3, $4, $5, $6, category; \\\n",
    "}' non_imputed_SupAdm_pruned.fam > non_imputed_SupAdm_pruned.pop"
   ]
  },
  {
   "cell_type": "markdown",
   "id": "a31284b8-0e1d-429c-a0bb-adc6eb145397",
   "metadata": {},
   "source": [
    "We can do a quick check of the .pop file, to ensure that it contains the new labels"
   ]
  },
  {
   "cell_type": "code",
   "execution_count": null,
   "id": "4468bd28-4711-492f-9a7e-65db38203ad2",
   "metadata": {},
   "outputs": [],
   "source": [
    "awk '{print $1}' non_imputed_SupAdm_pruned.pop | sort -u"
   ]
  },
  {
   "cell_type": "markdown",
   "id": "b70af3f7-7955-45d6-ad77-3862badc8f2c",
   "metadata": {},
   "source": [
    "We are now ready to run supervised admixture, given 2 reference sources. The dataset we are using contains: \n",
    "* > 100K SNPs\n",
    "* A total genotyping rate of 0.59."
   ]
  },
  {
   "cell_type": "code",
   "execution_count": null,
   "id": "8c7c1dd4-18ec-463b-b4dd-b3e6d6dfdf9f",
   "metadata": {},
   "outputs": [],
   "source": [
    "module spider admixture"
   ]
  },
  {
   "cell_type": "code",
   "execution_count": null,
   "id": "5e988e20-4c8f-481c-b40c-de97cf64b604",
   "metadata": {},
   "outputs": [],
   "source": [
    "module load admixture-linux/1.3.0"
   ]
  },
  {
   "cell_type": "markdown",
   "id": "47f222c2-f5d9-4dbc-b5f9-ad2d8251af31",
   "metadata": {},
   "source": [
    "Below you can find the command line to run supervised ADMIXTURE live on the server. **DO NOT RUN IT**  "
   ]
  },
  {
   "cell_type": "code",
   "execution_count": null,
   "id": "6e3754bf-12d3-44cf-89ee-e900aa8fc622",
   "metadata": {},
   "outputs": [],
   "source": [
    "admixure non_imputed_SupAdm_pruned.bed --supervised --cv 2 "
   ]
  },
  {
   "cell_type": "markdown",
   "id": "c412795b-881c-4b4c-bf1f-89265a2a7f1f",
   "metadata": {},
   "source": [
    "We are going to send a SLURM job containing the supervised ADMIXTURE command line:"
   ]
  },
  {
   "cell_type": "code",
   "execution_count": null,
   "id": "b6d7caef-053e-4079-8779-759e12bb8227",
   "metadata": {},
   "outputs": [],
   "source": [
    "python ~/tmp_scripts/JobParser.py --command \"admixture non_imputed_SupAdm_pruned.bed --supervised --cv 2 \" --name sup_admixture --module admixture-linux/1.3.0"
   ]
  },
  {
   "cell_type": "code",
   "execution_count": null,
   "id": "3b1d5c39-7088-4602-b32c-e68c767dbece",
   "metadata": {},
   "outputs": [],
   "source": [
    "sbatch sup_admixture.sh"
   ]
  },
  {
   "cell_type": "markdown",
   "id": "eb37e71c-1587-4844-8433-ea6965112be4",
   "metadata": {},
   "source": [
    "### Plot "
   ]
  },
  {
   "cell_type": "code",
   "execution_count": null,
   "id": "80987974-2b80-4507-8201-c5d1e2ad0cb0",
   "metadata": {},
   "outputs": [],
   "source": [
    "conda activate echo_workshop"
   ]
  },
  {
   "cell_type": "code",
   "execution_count": null,
   "id": "ad3872f5-45a7-4fca-b746-d452f3e04f7f",
   "metadata": {},
   "outputs": [],
   "source": [
    "Rscript ../tmp_scripts/AdmixturePlot_SupUnsup.R supervised non_imputed_SupAdm_pruned 2 KoksijdeEMA.Anc,NedEMA.Anc,FranceLIA.Anc,UKCamEMA.Anc"
   ]
  },
  {
   "cell_type": "markdown",
   "id": "474a0de7-863e-4e3d-b0e4-d42f2795b678",
   "metadata": {},
   "source": [
    "### Comparison between Imputed and Non Imputed Data"
   ]
  },
  {
   "cell_type": "code",
   "execution_count": null,
   "id": "789dad27-6183-484b-b0cf-0fcb99a82890",
   "metadata": {},
   "outputs": [],
   "source": [
    "Rscript comparing_supADMX.R --file1 non_imputed_SupAdm_pruned --file2 imputed_SupAdm_pruned --target KoksijdeEMA.Anc --k 2"
   ]
  }
 ],
 "metadata": {
  "kernelspec": {
   "display_name": "Python 3 (ipykernel)",
   "language": "python",
   "name": "python3"
  },
  "language_info": {
   "codemirror_mode": {
    "name": "ipython",
    "version": 3
   },
   "file_extension": ".py",
   "mimetype": "text/x-python",
   "name": "python",
   "nbconvert_exporter": "python",
   "pygments_lexer": "ipython3",
   "version": "3.12.6"
  }
 },
 "nbformat": 4,
 "nbformat_minor": 5
}
