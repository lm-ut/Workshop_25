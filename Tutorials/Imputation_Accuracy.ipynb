{
 "cells": [
  {
   "cell_type": "markdown",
   "id": "1e456acc-2c20-4d4f-972f-7986ab31a234",
   "metadata": {},
   "source": [
    "# Imputation accuracy"
   ]
  },
  {
   "cell_type": "markdown",
   "id": "f75f3dac-a89d-4bc4-8c66-2054d30ac204",
   "metadata": {},
   "source": [
    "After imputation, we can test the accuracy by comparing the imputed genotypes to the 'true' genotypes. Here, this means comparing the imputed samples to their high-coverage samples. We will do this for sample KOS28, which has a coverage of 10x and was then downsampled to 0.1x."
   ]
  },
  {
   "cell_type": "markdown",
   "id": "9d584a1b-3868-4f2e-b6fd-3f2f74b38243",
   "metadata": {},
   "source": [
    "First, let's install the conda environment for this session. The yml file is available on the GitHub page (https://github.com/lm-ut/Workshop_25/) as well is in this folder: /gpfs/helios/projects/echo_workshops/project.1.tk/conda_env"
   ]
  },
  {
   "cell_type": "code",
   "execution_count": null,
   "id": "c556237b-991d-4f8a-8de6-5b98e4af81ad",
   "metadata": {},
   "outputs": [],
   "source": [
    "cd\n",
    "cp /gpfs/helios/projects/echo_workshops/project.1.tk/conda_env/SnpSift.yml .\n",
    "conda env create -f SnpSift.yml"
   ]
  },
  {
   "cell_type": "code",
   "execution_count": null,
   "id": "87837ac5-aeb0-4fda-ad58-d7d2558ef9be",
   "metadata": {},
   "outputs": [],
   "source": [
    "conda activate SnpSift.yml"
   ]
  },
  {
   "cell_type": "code",
   "execution_count": null,
   "id": "b8e5df3c-8681-44d5-8486-9d1542756c4c",
   "metadata": {},
   "outputs": [],
   "source": [
    "mkdir -p SnpSift_QUILT_raw\n",
    "cd SnpSift_QUILT_raw\n",
    "\n",
    "cp /gpfs/helios/projects/echo_workshops/project.1.tk/data/KOS028/files_for_SnpSift/KOS028_QUILT_high_cov.vcf .\n",
    "cp /gpfs/helios/projects/echo_workshops/project.1.tk/data/KOS028/files_for_SnpSift/KOS028_QUILT_low_cov_raw.vcf .\n",
    "cp /gpfs/helios/projects/echo_workshops/project.1.tk/scripts/SnpSift.sh .\n",
    "\n",
    "SnpSift concordance KOS028_QUILT_high_cov.vcf KOS028_QUILT_low_cov_raw.vcf > comparison.txt\n",
    "bash SnpSift.sh *.by_sample.txt\n",
    "\n",
    "cat KOS028.matrix"
   ]
  },
  {
   "cell_type": "markdown",
   "id": "e2e25b10-7752-4310-acb1-c5bf16b23a96",
   "metadata": {},
   "source": [
    "The result of this script is a matrix, that has the imputed genotypes and the 'true' genotypes. Copy this matrix into an excel file, and try to calculate some accuracy metrics as explained in the slides. These statistics can be calculated for heterozygous genotypes, but also for reference and alternative. "
   ]
  },
  {
   "cell_type": "markdown",
   "id": "84cc04fc-42b5-4dae-a141-0a1439bc2d00",
   "metadata": {},
   "source": [
    "What is the heterozygous sensitivity of the raw imputed sample?"
   ]
  },
  {
   "cell_type": "markdown",
   "id": "36dfb673-b5ae-4aef-9128-52c551ac6c49",
   "metadata": {},
   "source": [
    "As a reminder: below are the formula's for the different accuracy metrics."
   ]
  },
  {
   "cell_type": "markdown",
   "id": "3537dbf2-f273-40a6-8977-3919f96d18b9",
   "metadata": {},
   "source": [
    "- Sensitivity: TP / (TP + FN)\n",
    "- Specificity: TN / (TN + FP)\n",
    "- Accuracy: TP + TN / Total\n",
    "- Precision: TP / (TP + FN)\n",
    "- False Positive Rate: 1 - Specificity\n",
    "- False Negative Rate: 1 - Sensitivity\n",
    "- Non-reference concordance: (TP(het) + TP(alt)) / (Total - TP(ref))"
   ]
  },
  {
   "cell_type": "markdown",
   "id": "97b949d5-e07d-4160-b7dc-08e71cf3f93a",
   "metadata": {},
   "source": [
    "We used the raw imputed data above. But now, let's do the same for GP99 filtered data."
   ]
  },
  {
   "cell_type": "code",
   "execution_count": null,
   "id": "8abe8560-1831-4d4b-be64-c950a9f3c7cf",
   "metadata": {},
   "outputs": [],
   "source": [
    "cd\n",
    "mkdir -p SnpSift_QUILT_GP99\n",
    "cd SnpSift_QUILT_GP99\n",
    "\n",
    "cp /gpfs/helios/projects/echo_workshops/project.1.tk/data/KOS028/files_for_SnpSift/KOS028_QUILT_high_cov.vcf .\n",
    "cp /gpfs/helios/projects/echo_workshops/project.1.tk/data/KOS028/files_for_SnpSift/KOS028_QUILT_low_cov_GP99.vcf .\n",
    "cp /gpfs/helios/projects/echo_workshops/project.1.tk/scripts/SnpSift.sh .\n",
    "\n",
    "SnpSift concordance KOS028_QUILT_high_cov.vcf KOS028_QUILT_low_cov_GP99.vcf > comparison.txt\n",
    "bash SnpSift.sh *.by_sample.txt\n",
    "\n",
    "cat KOS028.matrix"
   ]
  },
  {
   "cell_type": "markdown",
   "id": "cbbf6404-9419-47e2-bffd-72623be7399c",
   "metadata": {},
   "source": [
    "Copy the matrix to excel again. Calculate the same statistics again. Does the heterozygous sensitivity change? Also note that there is now a lot of missingness in the data."
   ]
  },
  {
   "cell_type": "markdown",
   "id": "225cf5a7-0c37-4fa0-b7b8-f27949691e1d",
   "metadata": {},
   "source": [
    "Besides comparing different filters, we can also look at the result of different imputation tools."
   ]
  },
  {
   "cell_type": "code",
   "execution_count": null,
   "id": "bb408ea6-5504-4ed9-9646-33f72e7b1865",
   "metadata": {},
   "outputs": [],
   "source": [
    "cd\n",
    "mkdir -p SnpSift_Beagle\n",
    "cd SnpSift_Beagle\n",
    "\n",
    "cp /gpfs/helios/projects/echo_workshops/project.1.tk/data/KOS028/files_for_SnpSift/KOS028_QUILT_high_cov.vcf .\n",
    "cp /gpfs/helios/projects/echo_workshops/project.1.tk/data/KOS028/files_for_SnpSift/KOS028_Beagle_GP99.vcf .\n",
    "cp /gpfs/helios/projects/echo_workshops/project.1.tk/scripts/SnpSift.sh .\n",
    "\n",
    "SnpSift concordance KOS028_QUILT_high_cov.vcf KOS028_Beagle_GP99.vcf > comparison.txt\n",
    "bash SnpSift.sh *.by_sample.txt\n",
    "\n",
    "cat KOS028.matrix"
   ]
  },
  {
   "cell_type": "markdown",
   "id": "7e48ee27-3805-4668-9bef-c0c1ac7249bb",
   "metadata": {},
   "source": [
    "Again, copy the matrix to excel and calculate the accuracy statistics."
   ]
  },
  {
   "cell_type": "code",
   "execution_count": null,
   "id": "1ed1a0e2-23df-4834-95a1-4dec6fc8c018",
   "metadata": {},
   "outputs": [],
   "source": []
  }
 ],
 "metadata": {
  "kernelspec": {
   "display_name": "",
   "name": ""
  },
  "language_info": {
   "name": ""
  }
 },
 "nbformat": 4,
 "nbformat_minor": 5
}
