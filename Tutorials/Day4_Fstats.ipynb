{
 "cells": [
  {
   "cell_type": "markdown",
   "id": "7818e275-ac46-4ac0-81aa-29aee203191a",
   "metadata": {},
   "source": [
    "## F-statistics"
   ]
  },
  {
   "cell_type": "markdown",
   "id": "bd90c9bd-a843-4796-9385-f9610a0e2982",
   "metadata": {},
   "source": [
    "Let's activate our conda environment first"
   ]
  },
  {
   "cell_type": "code",
   "execution_count": null,
   "id": "c3bb9727-ebb1-4489-916d-c07e0cf1de47",
   "metadata": {},
   "outputs": [],
   "source": [
    "conda activate echo_workshop"
   ]
  },
  {
   "cell_type": "markdown",
   "id": "a25b6ce3-fb57-44eb-880f-8b3583048029",
   "metadata": {},
   "source": [
    "Within the `analyses` folder, let's create a new directory called `Fstats`"
   ]
  },
  {
   "cell_type": "code",
   "execution_count": 1,
   "id": "099526ec-1774-4ae9-99a8-6b708f055c52",
   "metadata": {},
   "outputs": [],
   "source": [
    "mkdir Fstats"
   ]
  },
  {
   "cell_type": "markdown",
   "id": "03c0e943-fdd2-4e2f-8010-38da754bab14",
   "metadata": {},
   "source": [
    "We will run all Fstatistics on both the imputed and non imputed dataset. So, within the directory `Fstats`, we can create:\n",
    "1) `imputed`\n",
    "2) `non_imputed`\n",
    "\n",
    "And within each, we will create a `dataset` directory"
   ]
  },
  {
   "cell_type": "markdown",
   "id": "996a8998-b3b6-4587-9b68-486915e7bad6",
   "metadata": {},
   "source": [
    "#### Non Imputed Dataset"
   ]
  },
  {
   "cell_type": "code",
   "execution_count": null,
   "id": "9e733b8e-0262-4ff6-bd23-057c2944bde4",
   "metadata": {},
   "outputs": [],
   "source": [
    "mkdir non_imputed"
   ]
  },
  {
   "cell_type": "code",
   "execution_count": null,
   "id": "532a8127-aa9c-4308-bacc-63b7d04bc8a5",
   "metadata": {},
   "outputs": [],
   "source": [
    "cd non_imputed"
   ]
  },
  {
   "cell_type": "code",
   "execution_count": null,
   "id": "9a8960fd-8685-46d4-980e-8b42871c7afd",
   "metadata": {},
   "outputs": [],
   "source": [
    "mkdir dataset"
   ]
  },
  {
   "cell_type": "markdown",
   "id": "b938da57-3122-4cab-995a-e988bbf9c11c",
   "metadata": {},
   "source": [
    "Copy the file non_imputed_set_fstats.* and check:\n",
    "- N of SNPs\n",
    "- N of groups"
   ]
  },
  {
   "cell_type": "code",
   "execution_count": null,
   "id": "9061343c-047c-499f-b530-1d4b88f5e4e6",
   "metadata": {},
   "outputs": [],
   "source": [
    "cp /gpfs/helios/projects/echo_workshops/project.1.tk/data/PopStructureFiles/non_imputed_fstats.* .\n",
    "wc -l non_imputed_set_fstats.bim\n",
    "awk '{print $1}' non_imputed_fstats.fam | sort | uniq -c"
   ]
  },
  {
   "cell_type": "markdown",
   "id": "3035f8ae-f700-49f5-8b80-5b36f4d07807",
   "metadata": {},
   "source": [
    "**Question** \n",
    "\n",
    "Compared to the dataset we used for the PCA, there's an additional group, which one? "
   ]
  },
  {
   "cell_type": "markdown",
   "id": "b71f632b-e341-4649-9e64-53478380dc3d",
   "metadata": {},
   "source": [
    "#### Imputed Dataset\n",
    "\n",
    "Be sure that `cd ../../` redirects you to the path where you want to place the `imputed` directory"
   ]
  },
  {
   "cell_type": "code",
   "execution_count": null,
   "id": "f6f1d10b-cec4-46ac-ba26-f47c7453ecb5",
   "metadata": {},
   "outputs": [],
   "source": [
    "cd ../../\n",
    "mkdir imputed\n",
    "cd imputed\n",
    "mkdir dataset\n",
    "cp /gpfs/helios/projects/echo_workshops/project.1.tk/data/PopStructureFiles/imputed_set_fstats.* ."
   ]
  },
  {
   "cell_type": "markdown",
   "id": "7b375e0d-dd6e-4038-85d3-86634d0ddcec",
   "metadata": {},
   "source": [
    "### First steps with F-statistics"
   ]
  },
  {
   "cell_type": "markdown",
   "id": "4ff7e22c-a23f-4e27-bb6d-41585c24d829",
   "metadata": {},
   "source": [
    "#### Converting PLINK to EIGENSTRAT format"
   ]
  },
  {
   "cell_type": "markdown",
   "id": "cc12acf1-b3bd-496c-b2f5-6d877049e465",
   "metadata": {},
   "source": [
    "The following example are tailored for the **non imputed** dataset, be sure that you move to your non_imputed/dataset directory. \n",
    "\n",
    "We will follow the same steps for the imputed dataset as well: when you analyse the imputed dataset be sure to move to the correct `imputed` directory, and copy the correct `imputed` files."
   ]
  },
  {
   "cell_type": "markdown",
   "id": "62a400b4-15fb-4edf-ab62-8a2e1fb48635",
   "metadata": {},
   "source": [
    "A set of PLINK file are available, but we need to convert them to EIGENSTRAT format\n",
    "to run fstatistics.   \n",
    "\n",
    "To do so, you can use the BED2EIG.sh script: it will create a par file and run convertf. \n",
    "\n",
    "\n",
    "Usage:\n",
    "bash BED2EIG.sh input_file_prefix output_file_prefix"
   ]
  },
  {
   "cell_type": "code",
   "execution_count": null,
   "id": "3ff78bf4-7857-44d2-8361-7c197105ccf7",
   "metadata": {},
   "outputs": [],
   "source": [
    "bash /gpfs/helios/projects/echo_workshops/project.1.tk/scripts/BED2EIG.sh non_imputed_fstats non_imputed_fstats"
   ]
  },
  {
   "cell_type": "markdown",
   "id": "945927a2-8c97-4096-94cb-74e86761b820",
   "metadata": {},
   "source": [
    "The BED2EIG.sh will create a convertf par file. "
   ]
  },
  {
   "cell_type": "code",
   "execution_count": null,
   "id": "5e5cc9ed-4ac0-425f-baad-feabb40e006e",
   "metadata": {},
   "outputs": [],
   "source": [
    "python /gpfs/helios/projects/echo_workshops/project.1.tk/scripts/JobParser.py --command \"convertf -p convertf_non_imputed_fstats.par\" --name convertf"
   ]
  },
  {
   "cell_type": "code",
   "execution_count": null,
   "id": "aea1f126-8eeb-4cd6-9361-172270612279",
   "metadata": {},
   "outputs": [],
   "source": [
    "sbatch convertf.sh"
   ]
  },
  {
   "cell_type": "markdown",
   "id": "d3ae2849-667a-41b6-a4b4-7ac414670115",
   "metadata": {},
   "source": [
    "#### Edit the .ind file"
   ]
  },
  {
   "cell_type": "code",
   "execution_count": null,
   "id": "67071dc7-6713-4ab5-8bc4-2bd6711284a4",
   "metadata": {},
   "outputs": [],
   "source": [
    "sed -i 's/:/\\t/g' non_imputed_fstats.ind && awk '{print $2,$3,$1}' non_imputed_fstats.ind > tmp && mv tmp non_imputed_fstats.ind"
   ]
  },
  {
   "cell_type": "markdown",
   "id": "e561ed38-a8b8-440d-a9bc-9d1668a342b0",
   "metadata": {},
   "source": [
    "## F3 Statistics\n",
    "\n",
    "F3 Statistics can be used for two purposes:\n",
    "- Test whether Pop C is admixed with Pop A and Pop B, *f3*(A,B,C) \n",
    "- Measure the shared drift of Pop A and Pop B, given an outgroup Pop O, *f3*(A,B,O) \n"
   ]
  },
  {
   "cell_type": "markdown",
   "id": "713d449b-57c9-4414-9c8c-57537893b7bc",
   "metadata": {},
   "source": [
    "## F3 Admixture\n",
    "\n",
    "F3Admixture is a formal test of admixture: if *f3*(A,B,C) < -3, then Pop C is shown to be admixed between Pop A and Pop B. "
   ]
  },
  {
   "cell_type": "markdown",
   "id": "bd3ddd0b-dc13-4dbd-9b51-a139a1a81d8a",
   "metadata": {},
   "source": [
    "Let's create a directory where we can run and store the F3 Admixture analyses."
   ]
  },
  {
   "cell_type": "code",
   "execution_count": null,
   "id": "855f5d54-b725-42bc-bbea-b0b801d23c9d",
   "metadata": {},
   "outputs": [],
   "source": [
    "mkdir F3_A"
   ]
  },
  {
   "cell_type": "markdown",
   "id": "f9a4b610-51f8-4345-aba6-9e4e2ff5e650",
   "metadata": {},
   "source": [
    "Similarly as any other ADMIXTOOLS software, the command line follows a specific pattern:\n",
    "\n",
    "software -p file.par\n",
    "\n",
    "In the case of F3 statistics, both F3 Admixture and F3 Outgroup, we will use the software **qp3Pop**. So that the command line will be:"
   ]
  },
  {
   "cell_type": "code",
   "execution_count": null,
   "id": "b0838851-d68b-4dd2-9c6d-8ac63fbe4a19",
   "metadata": {},
   "outputs": [],
   "source": [
    "qp3Pop -p file.par"
   ]
  },
  {
   "cell_type": "markdown",
   "id": "6663d2d6-19c2-4d2e-aee5-e86c176d4138",
   "metadata": {},
   "source": [
    "The par file will contain the necessary information to perform the analyses, namely:\n",
    "- the dataset in EIGENSOFT format\n",
    "- the list of three-populations test(s) we want to carry\n",
    "- optional parameters (here, we will use inbreed: YES, a parameter needed when dealing with pseudohaploid data, such ad aDNA)\n",
    "\n",
    "An example of a par.file:"
   ]
  },
  {
   "cell_type": "code",
   "execution_count": null,
   "id": "4f5b3e04-100b-4d32-a3cb-96743d0fa7c2",
   "metadata": {},
   "outputs": [],
   "source": [
    "genotypename: ../dataset/non_imputed_fstats.geno\n",
    "snpname:   ../dataset/non_imputed_fstats.snp\n",
    "indivname:   ../dataset/non_imputed_fstats.ind\n",
    "popfilename:  F3A_Tests_List\n",
    "inbreed: YES"
   ]
  },
  {
   "cell_type": "markdown",
   "id": "a248d5a3-a747-4cdc-8b16-90a3640aa3c7",
   "metadata": {},
   "source": [
    "The popfilename parameter takes a text file with a list of the F3 Admixture tests we want to run. The text file will contain three populations on each line in this order: (Proxy) source 1, (Proxy) source 2 and Target. For example:"
   ]
  },
  {
   "cell_type": "code",
   "execution_count": null,
   "id": "5a37220b-1b4e-47cc-8746-1d7459199713",
   "metadata": {},
   "outputs": [],
   "source": [
    "GermanySM.Anc FranceLIA.Anc KoksijdeEMA.Anc\n",
    "NedEMA.Anc FranceLIA.Anc KoksijdeEMA.Anc\n",
    "UKCamEMA.Anc FranceLIA.Anc KoksijdeEMA.Anc"
   ]
  },
  {
   "cell_type": "markdown",
   "id": "fe83840b-dfce-47fa-9efd-feaada5f2e87",
   "metadata": {},
   "source": [
    "With the popfilename created, we are ready to run F3Admixture, and test whether PopC is admixed with the proxy sources."
   ]
  },
  {
   "cell_type": "code",
   "execution_count": null,
   "id": "02612e03-8a7c-404f-ba39-ecce269992a2",
   "metadata": {},
   "outputs": [],
   "source": [
    "qp3Pop -p F3A.par >> RES_F3A"
   ]
  },
  {
   "cell_type": "code",
   "execution_count": null,
   "id": "71602332-0752-4749-86d6-9f992801fbe0",
   "metadata": {},
   "outputs": [],
   "source": [
    "python /gpfs/helios/projects/echo_workshops/project.1.tk/scripts/JobParser.py --command \"qp3Pop -p F3A.par >> RES_F3A\" --name F3A"
   ]
  },
  {
   "cell_type": "markdown",
   "id": "4855da0a-23e0-4ee7-9c28-b15efc5d6f64",
   "metadata": {},
   "source": [
    "#### F3 Admixture Output"
   ]
  },
  {
   "cell_type": "markdown",
   "id": "24d5588c-2b65-45ab-99c8-c1c5ecda6a93",
   "metadata": {},
   "source": [
    "The output file shows 7 columns:\n",
    "- Source 1\n",
    "- Source 2\n",
    "- Target\n",
    "- F3\n",
    "- Standard Error\n",
    "- Z score\n",
    "- Number of SNPs used\n",
    "\n",
    "To prove than and admixture event has taken place, the Zscore should be < -3. "
   ]
  },
  {
   "cell_type": "markdown",
   "id": "1cff5412-bfcd-40a6-98cc-35cafb8f4199",
   "metadata": {},
   "source": [
    "**Question** \n",
    "\n",
    "- Is there an admixed group?\n",
    "- What groups are the proxy sources?"
   ]
  },
  {
   "cell_type": "markdown",
   "id": "93aa4442-02b7-47ef-8138-3817dd8ebdce",
   "metadata": {},
   "source": [
    "## F3 Outgroup\n",
    "\n",
    "F3 Outgroup statistics will measure how closely two populations are (Pop A and Pop B) given an outgroup (Pop O). Generally, F3 Outgroup is used on a fixed target group, while sifting through multiple other groups. \n",
    "\n",
    "For example, *f3O*(X, KOS, Yoruba), where as X we will test many different Northern European groups."
   ]
  },
  {
   "cell_type": "markdown",
   "id": "91a539a7-8763-468d-8491-3c8dc63e8ec9",
   "metadata": {},
   "source": [
    "Let's create a directory where we can run and store the F3 Outgroup analyses."
   ]
  },
  {
   "cell_type": "code",
   "execution_count": null,
   "id": "afac535b-bb83-426d-be72-0d586e4f75bd",
   "metadata": {},
   "outputs": [],
   "source": [
    "mkdir F3_O"
   ]
  },
  {
   "cell_type": "markdown",
   "id": "0aec057e-8da8-4505-8abb-cfd57f11dfff",
   "metadata": {},
   "source": [
    "Again, similarly as any other ADMIXTOOLS software, the command line follows a specific pattern: software -p file.par\n",
    "\n",
    "In the case of F3 statistics, both F3 Admixture and F3 Outgroup, we will use the software **qp3Pop**. So that the command line for F3 Outgroup will be:"
   ]
  },
  {
   "cell_type": "code",
   "execution_count": null,
   "id": "15588502-203f-47a4-bfec-9ecd09b42a99",
   "metadata": {},
   "outputs": [],
   "source": [
    "qp3Pop -p file.par"
   ]
  },
  {
   "cell_type": "markdown",
   "id": "9e8a6681-1e6f-47a4-98f4-1b8d8ee38d5c",
   "metadata": {},
   "source": [
    "The par file should look like this:"
   ]
  },
  {
   "cell_type": "code",
   "execution_count": null,
   "id": "c54a8c04-166d-4fa3-abe3-89e01250dff2",
   "metadata": {},
   "outputs": [],
   "source": [
    "genotypename: ../dataset/non_imputed_fstats.geno\n",
    "snpname:   ../dataset/non_imputed_fstats.snp\n",
    "indivname:   ../dataset/non_imputed_fstats.ind\n",
    "popfilename:  F3O_Tests_List\n",
    "inbreed: YES"
   ]
  },
  {
   "cell_type": "markdown",
   "id": "d7dd088b-d234-4e85-88b6-72eceb2d1503",
   "metadata": {},
   "source": [
    "F3O_Tests_List is a three column file, listing all F3-stastistic combinations that we want to test, for example:"
   ]
  },
  {
   "cell_type": "code",
   "execution_count": null,
   "id": "c7f62150-11a2-4b58-acba-7be67dce4a4a",
   "metadata": {},
   "outputs": [],
   "source": [
    "English.HO\tKoksijdeEMA.Anc\tYRI\n",
    "Estonian.HO\tKoksijdeEMA.Anc\tYRI\n",
    "Finnish.HO\tKoksijdeEMA.Anc\tYRI\n",
    "FranceLIA.Anc\tKoksijdeEMA.Anc\tYRI\n",
    "French.HO\tKoksijdeEMA.Anc\tYRI\n",
    "GermanySM.Anc\tKoksijdeEMA.Anc\tYRI\n",
    "NedEMA.Anc\tKoksijdeEMA.Anc\tYRI\n",
    "Norwegian.HO\tKoksijdeEMA.Anc\tYRI\n",
    "Scottish.HO\tKoksijdeEMA.Anc\tYRI\n",
    "UKCamEMA.Anc\tKoksijdeEMA.Anc\tYRI\n",
    "UKKentEMA.Anc\tKoksijdeEMA.Anc\tYRI\n",
    "UKNorfolkEMA.Anc\tKoksijdeEMA.Anc\tYRI\n",
    "UKSouthEMA.Anc\tKoksijdeEMA.Anc\tYRI\n",
    "UKSuffolkEMA.Anc\tKoksijdeEMA.Anc\tYRI\n",
    "UKYrkEMA.Anc\tKoksijdeEMA.Anc\tYRI"
   ]
  },
  {
   "cell_type": "markdown",
   "id": "44d9e516-ad61-4e10-abc9-4c8c1adc0a9c",
   "metadata": {},
   "source": [
    "Note that while the first population is changing (the 'X') group, the other two are kept the same (KOS and Yoruba).\n",
    "\n",
    "With the popfilename created, we are ready to run F3 Outgroup."
   ]
  },
  {
   "cell_type": "code",
   "execution_count": null,
   "id": "ee8c85ac-ef88-4e53-803c-1b8c9c821b81",
   "metadata": {},
   "outputs": [],
   "source": [
    "qp3Pop -p F3_O.par >> RES_F3O"
   ]
  },
  {
   "cell_type": "code",
   "execution_count": null,
   "id": "e15cb126-1a89-4c20-8c34-31b7cb9abcae",
   "metadata": {},
   "outputs": [],
   "source": [
    "python /gpfs/helios/projects/echo_workshops/project.1.tk/scripts/JobParser.py --command \"qp3Pop -p F3_O.par >> RES_F3O\" --name F3_O"
   ]
  },
  {
   "cell_type": "code",
   "execution_count": null,
   "id": "bcf56e15-61b5-4744-b40e-cbac8c1791c1",
   "metadata": {},
   "outputs": [],
   "source": [
    "sbatch F3_O.sh"
   ]
  },
  {
   "cell_type": "markdown",
   "id": "85778a31-96b0-4ec5-820c-5dc8b03f26fd",
   "metadata": {},
   "source": [
    "#### F3 Outgroup Output"
   ]
  },
  {
   "cell_type": "markdown",
   "id": "5a33bce0-d6ae-42b7-8e44-cb215e596582",
   "metadata": {},
   "source": [
    "Let's look inside the output"
   ]
  },
  {
   "cell_type": "code",
   "execution_count": null,
   "id": "7031a4c7-d26a-4125-9f87-f12dff143475",
   "metadata": {},
   "outputs": [],
   "source": [
    "less -S RES_F3"
   ]
  },
  {
   "cell_type": "markdown",
   "id": "a112c724-2e40-49be-b315-3a04c832c041",
   "metadata": {},
   "source": [
    "The output has 7 columns: \n",
    "\n",
    "- Source 1\n",
    "- Source 2\n",
    "- Target\n",
    "- F3\n",
    "- Standard Error\n",
    "- Z score\n",
    "- Number of SNPs used\n",
    "\n",
    "The first three columns contain the population labels, the column names \"Source1, Source2 and Target\" are optimal labels when using qp3Pop for F3 Admixture, but not ideal for F3 Outgroup. Source 1 stands for the reference group, Source 2 for the target population and Target is actually the outgroup.\n",
    "\n",
    "A commonly used procedure to analyse and visualize the F3 Outgroup resuts is to sort the results based on the **f_3** column. The higher value will indicate a stronger shared drift, while lower values indicate a less strong shared drift. \n",
    "\n",
    "We can visualize the results with F3O_plot.py."
   ]
  },
  {
   "cell_type": "code",
   "execution_count": null,
   "id": "f7dc9099-d9ee-4558-a9c2-e6d13a220b8d",
   "metadata": {},
   "outputs": [],
   "source": [
    "python F3O_plot.py RES_F3O Plot_RES_F3O"
   ]
  },
  {
   "cell_type": "markdown",
   "id": "d6242eba-4636-4bdd-95eb-13d3c5edef63",
   "metadata": {},
   "source": [
    "**Question** \n",
    "\n",
    "- Which are the top scoring groups?"
   ]
  },
  {
   "cell_type": "markdown",
   "id": "a6543667-57a8-4a18-926c-e7bd12497cab",
   "metadata": {},
   "source": [
    "#### Comparing two target groups with F3 Outgroups"
   ]
  },
  {
   "cell_type": "markdown",
   "id": "b1cfab77-b85a-4a85-ac78-a615ae3c38fc",
   "metadata": {},
   "source": [
    "We can also compare two target groups based on their affinity to the same list of 'X' populations. For this task, a scatterplot is quite handy."
   ]
  },
  {
   "cell_type": "markdown",
   "id": "4fe535be-3d79-4e25-8758-158572f89574",
   "metadata": {},
   "source": [
    "The second target group will be the imputed data, and we will compare the imputed and non imputed F3 Outgroup results. We will use the same reference group used on for the non imputed set. "
   ]
  },
  {
   "cell_type": "code",
   "execution_count": null,
   "id": "5fdfdbc8-bcf3-48ce-9d7f-abde406e3470",
   "metadata": {},
   "outputs": [],
   "source": [
    "English.HO\tKoksijdeEMA.Anc\tYRI\n",
    "Estonian.HO\tKoksijdeEMA.Anc\tYRI\n",
    "Finnish.HO\tKoksijdeEMA.Anc\tYRI\n",
    "FranceLIA.Anc\tKoksijdeEMA.Anc\tYRI\n",
    "French.HO\tKoksijdeEMA.Anc\tYRI\n",
    "GermanySM.Anc\tKoksijdeEMA.Anc\tYRI\n",
    "NedEMA.Anc\tKoksijdeEMA.Anc\tYRI\n",
    "Norwegian.HO\tKoksijdeEMA.Anc\tYRI\n",
    "Scottish.HO\tKoksijdeEMA.Anc\tYRI\n",
    "UKCamEMA.Anc\tKoksijdeEMA.Anc\tYRI\n",
    "UKKentEMA.Anc\tKoksijdeEMA.Anc\tYRI\n",
    "UKNorfolkEMA.Anc\tKoksijdeEMA.Anc\tYRI\n",
    "UKSouthEMA.Anc\tKoksijdeEMA.Anc\tYRI\n",
    "UKSuffolkEMA.Anc\tKoksijdeEMA.Anc\tYRI\n",
    "UKYrkEMA.Anc\tKoksijdeEMA.Anc\tYRI"
   ]
  },
  {
   "cell_type": "code",
   "execution_count": null,
   "id": "e41dd935-f8a5-4025-94cb-86f5ab83b137",
   "metadata": {},
   "outputs": [],
   "source": [
    "genotypename: ../dataset/non_imputed_set_fstats.geno\n",
    "snpname:   ../dataset/non_imputed_set_fstats.snp\n",
    "indivname:   ../dataset/non_imputed_set_fstats.ind\n",
    "popfilename:  F3O_Tests_List_Target2\n",
    "inbreed: YES"
   ]
  },
  {
   "cell_type": "code",
   "execution_count": null,
   "id": "20db2841-fad1-417c-8d3a-56b65d5a8ba5",
   "metadata": {},
   "outputs": [],
   "source": [
    "qp3Pop -p F3_O.par >> RES_F3O_Target2"
   ]
  },
  {
   "cell_type": "markdown",
   "id": "0d70c625-ab04-4acc-a606-f3c1f2e98768",
   "metadata": {},
   "source": [
    "### PLOT"
   ]
  },
  {
   "cell_type": "code",
   "execution_count": null,
   "id": "b54e2182-1e70-495a-b63e-b41db57e6862",
   "metadata": {},
   "outputs": [],
   "source": [
    "To better understand the final scatterplot, we need to modify slightly the F3 Outgroup result file. "
   ]
  },
  {
   "cell_type": "code",
   "execution_count": null,
   "id": "29c42c58-d095-491e-910c-2fdd187cc53b",
   "metadata": {},
   "outputs": [],
   "source": [
    "sed -i 's/KoksijdeEMA.Anc/imputed_KoksijdeEMA.Anc/g' RES_F3O"
   ]
  },
  {
   "cell_type": "code",
   "execution_count": null,
   "id": "a88795e7-b1d3-4696-be25-dd60420bde90",
   "metadata": {},
   "outputs": [],
   "source": [
    "python /gpfs/helios/projects/echo_workshops/project.1.tk/scripts/F3O_Scatterplot.py RES_F3O ../../non_imputed/F3_O/RES_F3O F3O_Scatterplot"
   ]
  },
  {
   "cell_type": "markdown",
   "id": "429b1d70-9400-480a-8535-b6acbb52d4cf",
   "metadata": {},
   "source": [
    "## F4 statistics\n",
    "\n",
    "With *f4*(A,B,C,O) we are going to test whether Pop C shared more drift with Pop A, Pop B, given an outgroup O. Specifically:\n",
    "- if Pop C shares more drift with Pop A, the statistics will be positive\n",
    "- if Pop C shares more drift with Pop B, the statistics will be negative\n",
    "\n",
    "Along with the F4 values, **qpDstat** will also estimate the Zscores, that can be used to statistically rejected the null hypothesis of no shared drift when they are: -3 < Zscore > +3."
   ]
  },
  {
   "cell_type": "code",
   "execution_count": null,
   "id": "1cfc8183-a9e6-4a1e-8ca9-970d4dc37d0e",
   "metadata": {},
   "outputs": [],
   "source": [
    "mkdir F4\n",
    "cd F4\n",
    "mkdir analyses\n",
    "mkdir dataset"
   ]
  },
  {
   "cell_type": "markdown",
   "id": "899d3e4b-f572-4a94-85bc-9cff54f31c2e",
   "metadata": {},
   "source": [
    "For the F4 statistics we will used a dataset containing both imputed and non imputed genomes. Copy it in your `F4/dataset` directory."
   ]
  },
  {
   "cell_type": "code",
   "execution_count": null,
   "id": "509dd575-f7c2-44d7-a677-ae30da78d189",
   "metadata": {},
   "outputs": [],
   "source": [
    "cd dataset\n",
    "cp  /gpfs/helios/projects/echo_workshops/project.1.tk/data/PopStructureFiles/F4_dataset.* ."
   ]
  },
  {
   "cell_type": "markdown",
   "id": "91152bee-8cdd-41e2-a717-d1f4860b5a25",
   "metadata": {},
   "source": [
    "The tool we are going to use to run F4 statistics is **qpDstat**, and as for all other ADMIXTOOLS applications, we are using a par file as follows:"
   ]
  },
  {
   "cell_type": "code",
   "execution_count": null,
   "id": "a3e3b499-dc16-4f48-8219-1f004dd435d6",
   "metadata": {},
   "outputs": [],
   "source": [
    "qpDstat -p par.file >> RES_F4"
   ]
  },
  {
   "cell_type": "markdown",
   "id": "022a2944-fe6e-4ba2-91c1-f0137b67a297",
   "metadata": {},
   "source": [
    "To run F4 statistics the par file should look like this:"
   ]
  },
  {
   "cell_type": "code",
   "execution_count": null,
   "id": "eef9b047-30dd-44e0-836d-a43dc1be2b6d",
   "metadata": {},
   "outputs": [],
   "source": [
    "genotypename:   ../dataset/F4_dataset.geno\n",
    "snpname:   ../dataset/F4_dataset.snp\n",
    "indivname:  ../dataset/F4_dataset.ind\n",
    "#poplistname:  list_F4.txt #(contains list of poulations- one population on each line).\n",
    "# Program will run the method for all quadrapules.\n",
    "popfilename:   F4_List\n",
    "f4mode: YES"
   ]
  },
  {
   "cell_type": "markdown",
   "id": "8468beec-51cd-4090-b131-5ee7a65a602c",
   "metadata": {},
   "source": [
    "Importantly, in our case we are going to use the option\n",
    "**popfilename**: list, where we list all four populations tests we want to carry. \n",
    "\n",
    "Alternatively, we could use pop**list**name option, where we list N populations, and qpDstat will test every possible combination between those N groups. "
   ]
  },
  {
   "cell_type": "markdown",
   "id": "92ba4739-caad-489e-9b83-ca86420da5ed",
   "metadata": {},
   "source": [
    "An example of **popfilename**: F4_List:"
   ]
  },
  {
   "cell_type": "code",
   "execution_count": null,
   "id": "3c37e5d0-cc4a-4513-8700-bdc94f16c49e",
   "metadata": {},
   "outputs": [],
   "source": [
    "English.HO French.HO KoksijdeEMA.Anc_imputed YRI\n",
    "English.HO French.HO KoksijdeEMA.Anc_nonimputed YRI"
   ]
  },
  {
   "cell_type": "markdown",
   "id": "6dc690b1-13a5-4664-9e98-b4771e6a22da",
   "metadata": {},
   "source": [
    "And qpDstat will test two F4statistics in the populations in the order given, thus:\n",
    "- *f4*(English.HO, French.HO, imputed Koksijde, YRI)\n",
    "- *f4*(English.HO, French.HO, non imputed Koksijde, YRI)"
   ]
  },
  {
   "cell_type": "markdown",
   "id": "0a377e58-f8bd-4b04-bcad-bd2d53e76d68",
   "metadata": {},
   "source": [
    "An example of **poplistname: F4_List** can be:"
   ]
  },
  {
   "cell_type": "code",
   "execution_count": null,
   "id": "e6cd414c-7b2e-4b51-9f75-9aad4e7ccb3d",
   "metadata": {},
   "outputs": [],
   "source": [
    "Eng.S\n",
    "French.HO\n",
    "KOS\n",
    "YRI"
   ]
  },
  {
   "cell_type": "markdown",
   "id": "ca0e26ff-e0ae-4901-88c9-da0752a0623c",
   "metadata": {},
   "source": [
    "And qpDstat will perform the following tests:\n",
    "\n",
    "Eng.S, French.HO, KOS, YRI\n",
    "\n",
    "Eng.S, KOS, French.HO, YRI\n",
    "\n",
    "Eng.S, YRI, French.HO, KOS"
   ]
  },
  {
   "cell_type": "markdown",
   "id": "5b0ab066-d41e-4dd2-8cce-e7fbd28689ff",
   "metadata": {},
   "source": [
    "#### F4 Output"
   ]
  },
  {
   "cell_type": "code",
   "execution_count": null,
   "id": "75756116-8445-4bc9-9549-6a67d174dbde",
   "metadata": {},
   "outputs": [],
   "source": [
    "egrep result F4_RES"
   ]
  },
  {
   "cell_type": "code",
   "execution_count": null,
   "id": "1e3620ad-1bfb-453d-ac85-5c252a1d51f5",
   "metadata": {},
   "outputs": [],
   "source": [
    "result: POPA POPB POPC POPD f_4 Zscore BABA ABBA SNPs"
   ]
  },
  {
   "cell_type": "markdown",
   "id": "3a8ba3e5-5021-4e93-8949-a56698b3a8a5",
   "metadata": {},
   "source": [
    "We can focus on the Zscore to interpret the F4 results. \n",
    "\n",
    "**Question** \n",
    "\n",
    "- Which groups share more drift with our target group?"
   ]
  }
 ],
 "metadata": {
  "kernelspec": {
   "display_name": "Python 3 (ipykernel)",
   "language": "python",
   "name": "python3"
  },
  "language_info": {
   "codemirror_mode": {
    "name": "ipython",
    "version": 3
   },
   "file_extension": ".py",
   "mimetype": "text/x-python",
   "name": "python",
   "nbconvert_exporter": "python",
   "pygments_lexer": "ipython3",
   "version": "3.12.6"
  }
 },
 "nbformat": 4,
 "nbformat_minor": 5
}
