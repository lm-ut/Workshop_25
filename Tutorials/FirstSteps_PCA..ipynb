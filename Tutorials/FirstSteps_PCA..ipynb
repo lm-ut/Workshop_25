{
 "cells": [
  {
   "cell_type": "markdown",
   "id": "03ecb7ed-d511-46cd-9659-e8bf320d4d90",
   "metadata": {},
   "source": [
    "# Getting Started"
   ]
  },
  {
   "cell_type": "markdown",
   "id": "d8eee4a1-91c4-4a8a-bac3-f5bf86e8583f",
   "metadata": {},
   "source": [
    "LINUX users can open the terminal window with:"
   ]
  },
  {
   "cell_type": "code",
   "execution_count": null,
   "id": "861de8f1-3f93-4920-8f2c-428da403476f",
   "metadata": {},
   "outputs": [],
   "source": [
    "Ctrl+Alt+T"
   ]
  },
  {
   "cell_type": "markdown",
   "id": "ff02a7c1-931f-4dc5-934f-0b671b778113",
   "metadata": {},
   "source": [
    "Login into rocket with your account:"
   ]
  },
  {
   "cell_type": "code",
   "execution_count": null,
   "id": "84e9b9d8-1de6-4edc-97f1-2bb66a05190c",
   "metadata": {},
   "outputs": [],
   "source": [
    "ssh your_account_id@rocket.hpc.ut.ee"
   ]
  },
  {
   "cell_type": "markdown",
   "id": "a87bbef8-4b1b-4a04-bca3-4e8288762ecf",
   "metadata": {},
   "source": [
    "### Install and Setting up a conda environment"
   ]
  },
  {
   "cell_type": "markdown",
   "id": "7c4e6179-7dad-44e6-8822-9993eded0e8c",
   "metadata": {},
   "source": [
    "Steps available at Anaconda website: https://docs.anaconda.com/miniconda/install/#quick-command-line-install"
   ]
  },
  {
   "cell_type": "code",
   "execution_count": null,
   "id": "32f4132c-c894-45c4-b6cc-4f92194c4438",
   "metadata": {},
   "outputs": [],
   "source": [
    "mkdir -p ~/miniconda3\n",
    "wget https://repo.anaconda.com/miniconda/Miniconda3-latest-Linux-x86_64.sh -O ~/miniconda3/miniconda.sh\n",
    "bash ~/miniconda3/miniconda.sh -b -u -p ~/miniconda3\n",
    "rm ~/miniconda3/miniconda.sh"
   ]
  },
  {
   "cell_type": "code",
   "execution_count": null,
   "id": "b6edbef3-874a-45a8-ab93-6a4afd76667d",
   "metadata": {},
   "outputs": [],
   "source": [
    "Check you bashrc file (more ~/.bashrc) to see whether conda edited last section of the file"
   ]
  },
  {
   "cell_type": "markdown",
   "id": "44b831a0-8fd8-4a56-80a1-5a64b38560cf",
   "metadata": {},
   "source": [
    "Exit and re-enter terminal"
   ]
  },
  {
   "cell_type": "markdown",
   "id": "85d93821-0364-4618-92c4-fb4b4c87e63a",
   "metadata": {},
   "source": [
    "#### Copy the environment and create it in your directory"
   ]
  },
  {
   "cell_type": "code",
   "execution_count": null,
   "id": "8c85aa53-d955-4153-9cd6-0213ce5b6dd8",
   "metadata": {},
   "outputs": [],
   "source": [
    "cp /gpfs/helios/home/etais/hpc_lm_echo/environments/echo_workshop.yml ."
   ]
  },
  {
   "cell_type": "code",
   "execution_count": null,
   "id": "eb21c43b-3ada-437a-b87b-41cc0c2c2a80",
   "metadata": {},
   "outputs": [],
   "source": [
    "conda env create -f echo_workshop.yml"
   ]
  },
  {
   "cell_type": "code",
   "execution_count": null,
   "id": "7e581c85-ed80-4070-ba6b-51ec2fe8f7ef",
   "metadata": {},
   "outputs": [],
   "source": [
    "conda activate echo_workshop"
   ]
  },
  {
   "cell_type": "markdown",
   "id": "e70a00e8-be02-4b56-9af5-821248db06a6",
   "metadata": {},
   "source": [
    "### Good practices when starting a new project"
   ]
  },
  {
   "cell_type": "markdown",
   "id": "ac93aade-b4bf-425f-ae6b-73b54192e48c",
   "metadata": {},
   "source": [
    "It is good practice to keep your directory clean and well-organized. \n",
    "\n",
    "For example, given that today we will work on the non imputed dataset we can create right away the directory 'non_imputed' with the command `mkdir` (mkdir = make directory), where we will store the dataset and run the analyses."
   ]
  },
  {
   "cell_type": "code",
   "execution_count": null,
   "id": "4cdafc60-c555-4cd3-ade4-f7050eef76ce",
   "metadata": {},
   "outputs": [],
   "source": [
    "mkdir non_imputed"
   ]
  },
  {
   "cell_type": "markdown",
   "id": "b9f7d1b5-099b-4b89-a3d9-73ecf1c5e611",
   "metadata": {},
   "source": [
    "To move into the newly create directory you can use the `cd` command (cd = change directory)."
   ]
  },
  {
   "cell_type": "code",
   "execution_count": null,
   "id": "a527d94b-deca-4cbd-a923-64dc36d8425c",
   "metadata": {},
   "outputs": [],
   "source": [
    "cd non_imputed"
   ]
  },
  {
   "cell_type": "markdown",
   "id": "735bd9a1-6b45-4e4c-bae5-8840e79300cd",
   "metadata": {},
   "source": [
    "There, you can create right away two directories: `dataset`, where you can store the dataset, and `analyses`, where we will run our tests. "
   ]
  },
  {
   "cell_type": "code",
   "execution_count": null,
   "id": "ce72baf4-e9b5-4ae4-988b-e3424dcb1fbc",
   "metadata": {},
   "outputs": [],
   "source": [
    "mkdir dataset \n",
    "mkdir analyses"
   ]
  },
  {
   "cell_type": "markdown",
   "id": "eec411d2-da53-4a4a-98d2-5ae6c80f8ebc",
   "metadata": {},
   "source": [
    "### Get the dataset\n",
    "The vcf is readily available at /gpfs/helios/home/etais/hpc_lm_echo/AADR_dataset/non_imputed_set.vcf. Be sure that you are currently in your 'non_imputed/dataset' folder and copy the file in your directory is this way"
   ]
  },
  {
   "cell_type": "code",
   "execution_count": null,
   "id": "a697d2e2-b19c-45d6-9c77-d6ec9c55ea61",
   "metadata": {},
   "outputs": [],
   "source": [
    "cp /gpfs/helios/home/etais/hpc_lm_echo/AADR_dataset/non_imputed_set.vcf ./"
   ]
  },
  {
   "cell_type": "markdown",
   "id": "0bc2b50d-66d3-4eae-a658-8e5c5fc561ac",
   "metadata": {},
   "source": [
    "## Explore the Dataset"
   ]
  },
  {
   "cell_type": "markdown",
   "id": "2e97d530-6d01-4302-b05d-5f9919005b8b",
   "metadata": {},
   "source": [
    "We are working on a remote server, where multiple users work with different software needs. Managing many softwares and many versions is complex, and can cause dependency issues. \n",
    "\n",
    "Rather than having installed and readily available all softwares we use **modules**. Modules allow to manage and load software environments dynamically, ensuring that the correct versions of software and their dependencies are used without conflicts."
   ]
  },
  {
   "cell_type": "markdown",
   "id": "9da5546c-534e-489f-9c6a-0317f9a758c6",
   "metadata": {},
   "source": [
    "Before **loading** a specific module, we need to search for it, to know whether it is available and under what name. \n",
    "\n",
    "`module spider` will provide a list of all available softwares and their version under the searched name. \n",
    "\n",
    "`module spider plink`\n",
    "\n",
    "`module load` is used to activate a specific software environment by loading the desired module. \n",
    "\n",
    "`module load plink/1.9-beta6.27`"
   ]
  },
  {
   "cell_type": "markdown",
   "id": "09c223bb-618e-41e9-b375-1c47e41458e4",
   "metadata": {},
   "source": [
    "# Dataset seen through PLINK"
   ]
  },
  {
   "cell_type": "code",
   "execution_count": null,
   "id": "6296d445-6a13-41a8-96c7-dde2bff3e265",
   "metadata": {},
   "outputs": [],
   "source": [
    "module spider plink\n",
    "module load plink/1.9-beta6.27"
   ]
  },
  {
   "cell_type": "markdown",
   "id": "6b320cd5-ac66-49cc-b7a4-9df4737eff55",
   "metadata": {},
   "source": [
    "Convert vcf to plink format"
   ]
  },
  {
   "cell_type": "code",
   "execution_count": null,
   "id": "dc3c5fe1-7a42-4cce-8db5-b79acbec3aa4",
   "metadata": {},
   "outputs": [],
   "source": [
    "plink --vcf non_imputed.vcf --keep-allele-order --make-bed --out non_imputed"
   ]
  },
  {
   "cell_type": "markdown",
   "id": "7e94eda8-7c32-47fe-86bd-9c2e77700c89",
   "metadata": {},
   "source": [
    "While converting PLINK informs us about:\n",
    " * Number of SNPS (variants)\n",
    " * Number of individuals (people) and number of male/females\n",
    " * Genotyping rate"
   ]
  },
  {
   "cell_type": "raw",
   "id": "91fd9f7a-cb89-473e-a689-f99142bf27c3",
   "metadata": {},
   "source": [
    "PLINK v1.90b6.21 64-bit (19 Oct 2020)          www.cog-genomics.org/plink/1.9/\n",
    "(C) 2005-2020 Shaun Purcell, Christopher Chang   GNU General Public License v3\n",
    "Logging to non_imputed_set.log.\n",
    "Options in effect:\n",
    "  --keep-allele-order\n",
    "  --make-bed\n",
    "  --out non_imputed\n",
    "  --vcf non_imputed.vcf\n",
    "\n",
    "128131 MB RAM detected; reserving 64065 MB for main workspace.\n",
    "--vcf: non_imputed-temporary.bed + non_imputed-temporary.bim +\n",
    "non_imputed-temporary.fam written.\n",
    "301636 variants loaded from .bim file.\n",
    "421 people (0 males, 0 females, 421 ambiguous) loaded from .fam.\n",
    "Ambiguous sex IDs written to non_imputed.nosex .\n",
    "Using 1 thread (no multithreaded calculations invoked).\n",
    "Before main variant filters, 421 founders and 0 nonfounders present.\n",
    "Calculating allele frequencies... done.\n",
    "Total genotyping rate is 0.828553.\n",
    "301636 variants and 421 people pass filters and QC.\n",
    "Note: No phenotypes present.\n",
    "--make-bed to non_imputed.bed + non_imputed.bim + non_imputed.fam ... done.\n"
   ]
  },
  {
   "cell_type": "markdown",
   "id": "1c896137-5978-461a-a6f7-f310718bd256",
   "metadata": {},
   "source": [
    "## Estimating the number of SNPs and samples"
   ]
  },
  {
   "cell_type": "markdown",
   "id": "911b8732-20d8-450d-a7a5-7fecc07a1e61",
   "metadata": {},
   "source": [
    "We can easily count the number of SNPs by counting the lines in the bim file with bash `wc -l`.\n",
    "\n",
    "`wc` = word count \\\n",
    "`-l` = lines"
   ]
  },
  {
   "cell_type": "code",
   "execution_count": null,
   "id": "bfd0e014-ef26-4e8f-b2be-8766ea3d547d",
   "metadata": {},
   "outputs": [],
   "source": [
    "wc -l non_imputed.bim "
   ]
  },
  {
   "cell_type": "markdown",
   "id": "3c58fc69-9bb4-42d5-9327-6f57e4d2321f",
   "metadata": {},
   "source": [
    "Similarly, we can count the number of Samples by counting the lines in the fam file"
   ]
  },
  {
   "cell_type": "code",
   "execution_count": null,
   "id": "d71e090e-66ea-4936-a399-7165b992478d",
   "metadata": {},
   "outputs": [],
   "source": [
    "wc -l non_imputed.fam"
   ]
  },
  {
   "cell_type": "markdown",
   "id": "ac5e8852-6b0d-4b47-8af0-7816e6dc3ec6",
   "metadata": {},
   "source": [
    "If the FID are available, we can estimate the number of samples per cluster"
   ]
  },
  {
   "cell_type": "code",
   "execution_count": null,
   "id": "81756b2a-8445-4b1f-9c50-81d72f004344",
   "metadata": {},
   "outputs": [],
   "source": [
    "awk '{print $1}' non_imputed.fam | sort | uniq -c"
   ]
  },
  {
   "cell_type": "markdown",
   "id": "874a0300-c9b1-43be-905d-650e184e068c",
   "metadata": {},
   "source": [
    "## Allele Frequencies\n",
    "The dataset can be characterized by many rare or many common variants. The allele frequencies will impact the study, and the kind of analyses we can carry on the dataset. For an insight of the allele frequencies in out dataset we can use the `--freq` options in PLINK, which writes a minor allele frequency report to an output **.frq** file."
   ]
  },
  {
   "cell_type": "code",
   "execution_count": null,
   "id": "bdddd697-2575-4278-990b-1c55669df6e4",
   "metadata": {},
   "outputs": [],
   "source": [
    "plink --bfile non_imputed --freq --out allele_freq_report"
   ]
  },
  {
   "cell_type": "markdown",
   "id": "e0b6af28-092e-42d7-8f9c-0633438d0378",
   "metadata": {},
   "source": [
    "And we can see the first few lines with the command `head`"
   ]
  },
  {
   "cell_type": "code",
   "execution_count": null,
   "id": "90d0c26d-9813-4e89-b1c0-a68fd929622e",
   "metadata": {},
   "outputs": [],
   "source": [
    "head allele_freq_report.frq"
   ]
  },
  {
   "cell_type": "markdown",
   "id": "78e50f86-f5ee-461d-a6bb-973407c7b4d4",
   "metadata": {},
   "source": [
    "The file has 6 columns:\n",
    "\n",
    "* CHR\tChromosome number\n",
    "* SNP\tVariant identifier\n",
    "* A1\tAllele 1 (usually minor)\n",
    "* A2\tAllele 2 (usually major)\n",
    "* MAF\tAllele 1 frequency, stands for Minor Allele Frequency\n",
    "* NCHROBS\tNumber of allele observations (number of samples*2)\n"
   ]
  },
  {
   "cell_type": "markdown",
   "id": "5cf4c33b-9964-4d0c-a4af-037774043e62",
   "metadata": {},
   "source": [
    "### How many alleles have a MAF lower than 0.05?"
   ]
  },
  {
   "cell_type": "code",
   "execution_count": null,
   "id": "e3f58fcd-a8b4-497b-8565-a16f999d3903",
   "metadata": {},
   "outputs": [],
   "source": [
    "awk '$5 < 0.05 {print $5}' allele_freq_report.frq | wc -l"
   ]
  },
  {
   "cell_type": "markdown",
   "id": "0d92e8a0-e10a-48b6-b1cb-1f8e5e6307f7",
   "metadata": {},
   "source": [
    "We can remove them with the plink option `--maf`."
   ]
  },
  {
   "cell_type": "code",
   "execution_count": null,
   "id": "fb8430e1-9074-4183-85c9-3e6549a4805b",
   "metadata": {},
   "outputs": [],
   "source": [
    "plink --bfile non_imputed --maf 0.05 --make-bed --out non_imputed_maf05"
   ]
  },
  {
   "cell_type": "markdown",
   "id": "8b6a45e3-b747-4d20-96ba-61a1536bfb37",
   "metadata": {},
   "source": [
    "## Evaluating the level of missingness in our dataset"
   ]
  },
  {
   "cell_type": "code",
   "execution_count": null,
   "id": "18996513-eef7-4ed7-a2fe-10cfed43abf3",
   "metadata": {},
   "outputs": [],
   "source": [
    "plink --bfile non_imputed --missing --out missingness_check"
   ]
  },
  {
   "cell_type": "markdown",
   "id": "5ee03a0f-c63b-4605-a1a5-50a1eab203d5",
   "metadata": {},
   "source": [
    "PLINK will create two output, with thr prefix 'missingness_check'. \n",
    "* missingness_check.imiss\n",
    "* missingness_check.lmiss\n",
    "\n",
    "We can check the first ten lines of files contain with the command `head`:"
   ]
  },
  {
   "cell_type": "markdown",
   "id": "396c663e-c71a-42d9-aac1-ad11a31d1e30",
   "metadata": {},
   "source": [
    "### missingness_check.imiss"
   ]
  },
  {
   "cell_type": "code",
   "execution_count": null,
   "id": "59187dd4-bc51-41e3-b724-d610726215b0",
   "metadata": {},
   "outputs": [],
   "source": [
    "head missingness_check.imiss"
   ]
  },
  {
   "cell_type": "markdown",
   "id": "5a2f0441-3f42-4b93-a885-9e95913c4c71",
   "metadata": {},
   "source": [
    "**i**miss stantds for individuals missingness, the file summarizes the missing genotype rates per individual. \n",
    "* FID contains the sample cluster/family name\n",
    "* IID contains the sample individual ID\n",
    "* MISS_PHENO indicates whether the phenotype information is missing (Y/N)\n",
    "* N_MISS\tNumber of missing genotype call(s)\n",
    "* N_GENO\tNumber of potentially valid call(s)\n",
    "* F_MISS\tMissing call rate, proportion of N_MISS/N_GENO"
   ]
  },
  {
   "cell_type": "markdown",
   "id": "fd6e1d3d-f451-479c-bbbd-a43a1a1f0866",
   "metadata": {},
   "source": [
    "We can check the 20 samples with:\n",
    "1) highest missingness\n",
    "2) lowest missingness"
   ]
  },
  {
   "cell_type": "code",
   "execution_count": null,
   "id": "4fdf41ed-87ea-4d86-914c-41a27ceaef3f",
   "metadata": {},
   "outputs": [],
   "source": [
    "sort -k6,6 -n missingness_check.imiss | tail -n 20\n",
    "sort -k6,6 -nr missingness_check.imiss | tail -n 20"
   ]
  },
  {
   "cell_type": "markdown",
   "id": "ffb20b2d-c555-4064-b1c0-3f1a7e1a0cb0",
   "metadata": {},
   "source": [
    "#### Removing samples with high missingness\n",
    "For filtering out low-quality samples we can use the PLINK option `--mind N`. With this option we will remove all samples with a missingess equal or higher than N. "
   ]
  },
  {
   "cell_type": "code",
   "execution_count": null,
   "id": "7e114ccf-107c-44d0-bab2-fc4eaf931da1",
   "metadata": {},
   "outputs": [],
   "source": [
    "plink --bfile non_imputed --mind 0.9 --make-bed --out non_imputed_mind9 "
   ]
  },
  {
   "cell_type": "markdown",
   "id": "4c3c3f6f-d69c-4f0f-b410-3947481317ac",
   "metadata": {},
   "source": [
    "If we use N = 0.9, how many samples will be removed?"
   ]
  },
  {
   "cell_type": "markdown",
   "id": "bffd6c76-9983-4f5d-807a-45340d8d626f",
   "metadata": {},
   "source": [
    "### missingness_check.lmiss"
   ]
  },
  {
   "cell_type": "code",
   "execution_count": null,
   "id": "eca5b079-faf2-4026-96a3-ffbd0b89739d",
   "metadata": {},
   "outputs": [],
   "source": [
    "head missingness_check.lmiss"
   ]
  },
  {
   "cell_type": "markdown",
   "id": "a4cdd774-12e3-48d0-98a3-c0f0d0a31fa8",
   "metadata": {},
   "source": [
    "**l**miss stands for locus missingness, it summarizes the missing genotype rates per SNP (locus).\n",
    "* CHR column inform on the chromosome number.\n",
    "* SNP is SNP ID.\n",
    "* N_MISS Number of missing genotypes for this SNP across all individuals.\n",
    "* N_GENO Total number of genotypes for this SNP across all individuals.\n",
    "* F_MISS Proportion of missing genotypes for this SNP (N_MISS / N_GENO)."
   ]
  },
  {
   "cell_type": "markdown",
   "id": "6399caba-c1c0-4298-8838-2ad0c8a5d9af",
   "metadata": {},
   "source": [
    "#### Removing SNPs with high missingness\n",
    "For filtering out low-quality SNPs we can use the PLINK option `--geno N`. With this option we will remove all variants with a missingess equal or higher than N. "
   ]
  },
  {
   "cell_type": "code",
   "execution_count": null,
   "id": "4baa70f9-61fb-4cd9-bcd0-a09e3b3517fb",
   "metadata": {},
   "outputs": [],
   "source": [
    "plink --bfile non_imputed --geno 0.9 --make-bed --out non_imputed_geno9 "
   ]
  },
  {
   "cell_type": "markdown",
   "id": "650ea4f3-af03-4c65-b496-3244eb3f89db",
   "metadata": {},
   "source": [
    "## Linkage Disequilibrium\n",
    "\n",
    "Linkage disequilibrium refers to the non-random association of alleles at different loci. When two SNPs are in LD, they tend to be inherited together more often than would be expected by chance. \\\n",
    "When not accounting for LD, we mistakenly interpret an association between two variants as causal, when in reality the association could be due to their co-inheritance."
   ]
  },
  {
   "cell_type": "markdown",
   "id": "cafaa852-3dd0-4635-8a85-019284d8a8ff",
   "metadata": {},
   "source": [
    "To remove sites in LD, we can use PLINK option `--indep-pairwise`. It takes 3 parameters: window size, step size, r^2 threshold.\n",
    "\n",
    "1) We select a window size in variant count (i.e. 100, will select a window with 100 SNPs, first parameter)\n",
    "2) We remove all SNPs with a r^2 equal or higher than our threshold (i.e. 0.1, third parameter)\n",
    "3) PLINK will shift the window a number of variants, and perform step 1 and 2 (i.e. 10, will shift the window 10 SNPs, second parameter)\n"
   ]
  },
  {
   "cell_type": "code",
   "execution_count": null,
   "id": "1d976f0a-d44f-4732-9e9c-900b1c96be5a",
   "metadata": {},
   "outputs": [],
   "source": [
    "--indep-pairwise <window size>['kb'] <step size (variant ct)> <r^2 threshold>"
   ]
  },
  {
   "cell_type": "code",
   "execution_count": null,
   "id": "2e00303c-84b1-45ca-a401-62c50b98d78c",
   "metadata": {},
   "outputs": [],
   "source": [
    "plink --bfile non_imputed --indep-pairphase 1000 100 0.5 --out pruning_report"
   ]
  },
  {
   "cell_type": "markdown",
   "id": "4e470b43-2697-443f-aa42-eb67b7703180",
   "metadata": {},
   "source": [
    "This command will output two files: pruning_report.prune.in and pruning_report.prune.out\n",
    "* prune.in, variants that passed the pruning parameters\n",
    "* prune.out, variants that did NOT pass the pruning parameters\n",
    "\n",
    "We can now subset the dataset based on the pruning_report files, by running **one** of these two line of code."
   ]
  },
  {
   "cell_type": "code",
   "execution_count": null,
   "id": "69650724-ab03-48c7-9dd5-035fb371a881",
   "metadata": {},
   "outputs": [],
   "source": [
    "plink --bfile non_imputed --extract pruning_report.prune.in --make-bed --out non_imputed_pruned \n",
    "plink --bfile non_imputed --exclude pruning_report.prune.out --make-bed --out non_imputed_pruned "
   ]
  },
  {
   "cell_type": "markdown",
   "id": "720190e7-5dda-49d3-a3fa-41a95657a321",
   "metadata": {},
   "source": [
    "# Visualizing the genetic variability with PCA\n",
    "\n",
    "We are providing you a script that will perform the following:\n",
    "1) Convert vcf to plink format\n",
    "2) Apply maf and LD filters\n",
    "3) Convert plink file to eigenstrat format\n",
    "4) Run smartpca"
   ]
  },
  {
   "cell_type": "code",
   "execution_count": null,
   "id": "16dccb6b-b101-4baa-9e25-f330ac499da2",
   "metadata": {},
   "outputs": [],
   "source": [
    "python ../FinalScripts/VCF2smartpca.py\n",
    "--name my_pca_script \n",
    "--input_file non_imputed \n",
    "--maf 0.05 \n",
    "--pruning '1000 100 0.5' \n",
    "--pca_project YES \n",
    "--pca_controls Albanian.HO,Belarusian.HO,Bulgarian.HO,Croatian.HO,Cypriot.HO,Czech.HO,English.HO,Estonian.HO,Finnish.HO,French.HO,Greek.HO,Hungarian.HO,Icelandic.HO,Italian.North.HO,Lithuanian.HO,Maltese.HO,Norwegian.HO,Orcadian.HO,Romanian.HO,Russian.HO,Scottish.HO,Sicilian.HO,Spanish.HO,Spanish.North.HO,Ukrainian.HO"
   ]
  },
  {
   "cell_type": "markdown",
   "id": "6733baeb-60bb-4970-84d8-3fe23f838670",
   "metadata": {},
   "source": [
    "The script will create a \"my_pca_script.sh\" bash file with all command lines needed"
   ]
  },
  {
   "cell_type": "code",
   "execution_count": null,
   "id": "bd2f4a15-db0d-4ea2-95e9-0816febc2182",
   "metadata": {},
   "outputs": [],
   "source": [
    "more my_pca_script.sh"
   ]
  },
  {
   "cell_type": "code",
   "execution_count": null,
   "id": "103abd12-b307-4d21-ac77-1d7c50ba2414",
   "metadata": {},
   "outputs": [],
   "source": [
    "sbatch my_pca_script.sh"
   ]
  },
  {
   "cell_type": "markdown",
   "id": "f5745619-0b70-46c5-8bf9-f48aa70d79fe",
   "metadata": {},
   "source": [
    "Once the script is done running, you will find in your directory two files:\n",
    "* **pca.evec**, containing the coordinates of each individual along each principal component (eigenvectors).\n",
    "* **eval**, containing the eigenvalues, indicating how much variance each principal component explains."
   ]
  },
  {
   "cell_type": "markdown",
   "id": "a60b7875-1b07-45da-b680-1b4581044fb5",
   "metadata": {},
   "source": [
    "#### Calculate the variance explained for each PC"
   ]
  },
  {
   "cell_type": "code",
   "execution_count": null,
   "id": "fc1a8ec3-a521-4f1a-841b-acaaa97e4325",
   "metadata": {},
   "outputs": [],
   "source": [
    "awk '{sum += $1} END {print sum}' non_imputed_maf0.05_pruned.eval"
   ]
  },
  {
   "cell_type": "markdown",
   "id": "59ed8b87-9ad1-42e6-8aec-dca5368100b8",
   "metadata": {},
   "source": [
    "Let's say it returns 108"
   ]
  },
  {
   "cell_type": "code",
   "execution_count": null,
   "id": "3606ae17-e19c-4a15-acf2-366d5df1bd59",
   "metadata": {},
   "outputs": [],
   "source": [
    "cat non_imputed_maf0.05_pruned.eval | while read line; \n",
    "do explained_variance=$(echo \"scale=4; $line / 108 * 100\" | bc); \n",
    "echo \"Explained variance: $explained_variance%\" >> explained_variance_output.txt; done"
   ]
  },
  {
   "cell_type": "markdown",
   "id": "7f3413e9-11db-4651-bead-e377040a7f8c",
   "metadata": {},
   "source": [
    "#### You can plot the PCA using PCA_plot.R script"
   ]
  },
  {
   "cell_type": "code",
   "execution_count": null,
   "id": "5a6e72ca-2b47-4911-a5d2-3d821ead7484",
   "metadata": {},
   "outputs": [],
   "source": [
    "conda activate echo_workshop"
   ]
  },
  {
   "cell_type": "code",
   "execution_count": null,
   "id": "c220d400-3149-45f7-bd68-f5f7645313f6",
   "metadata": {},
   "outputs": [],
   "source": [
    "Rscript ../../tmp_scripts/PCA_plot.R non_imputed_maf0.05_pruned.pca.evec output.pdf \n",
    "# or\n",
    "Rscript ../../tmp_scripts/PCA_plot.R non_imputed_maf0.05_pruned.pca.evec output.pdf --focus FranceLIA.Anc,\n",
    "KoksijdeEMA.Anc"
   ]
  },
  {
   "cell_type": "markdown",
   "id": "102fe403-d0e4-4604-961c-6d5f547b47b5",
   "metadata": {},
   "source": [
    "if issues: try pip install packaging==21.0"
   ]
  },
  {
   "cell_type": "markdown",
   "id": "7e209d3d-6a74-46e5-bed9-1ba237a9f939",
   "metadata": {},
   "source": [
    "#### A few notes on the smartpca par file"
   ]
  },
  {
   "cell_type": "markdown",
   "id": "01403685-5e04-4516-9123-cb0eb8d91e25",
   "metadata": {},
   "source": [
    "Here you can find additional info: https://github.com/chrchang/eigensoft/blob/master/POPGEN/README"
   ]
  },
  {
   "cell_type": "markdown",
   "id": "5c553356-1eff-40ea-b7eb-a042c49a01a7",
   "metadata": {},
   "source": [
    "This is the par file (therefore, the options) we used for our PCA:"
   ]
  },
  {
   "cell_type": "code",
   "execution_count": null,
   "id": "45e5cc1f-d355-4e10-a431-acd05bb6eeef",
   "metadata": {},
   "outputs": [],
   "source": [
    "genotypename: {output_name}.geno\n",
    "snpname: {output_name}.snp\n",
    "indivname: {output_name}.ind\n",
    "evecoutname: {output_name}.pca.evec\n",
    "evaloutname: {output_name}.eval\n",
    "numoutevec: 4"
   ]
  },
  {
   "cell_type": "markdown",
   "id": "8bd2a554-022b-4d6a-bff8-173dcd9b3330",
   "metadata": {},
   "source": [
    "- numoutvec: number of eigenvectors to output. It's the number of PCs. While the default is 10, we used only 4.\n",
    "\n",
    "##### Projection \n",
    "- lsqproject:  YES PCA projections is carried out by solving least squares equations rather than an orthogonal projection step.  This is approriate if PCs are calculated using samples with little missing data but it is desired to project samples with much missing data onto the top PCs.\n",
    "- poplistname:   If wishing to infer eigenvectors using only individuals from a subset of populations, and then project individuals from all populations onto those eigenvectors, this input file contains a list of population names, one population name per line, which will be used to infer eigenvectors. It is assumed that the population of each individual is specified in the indiv file. Default is to use individuals from all populations.\n",
    "\n",
    "##### Manipulating the normalization\n",
    "- altnormstyle: Affects very subtle details in normalization formula. Default is YES (normalization formulas of Patterson et al. 2006). To match EIGENSTRAT (normalization formulas of Price et al. 2006), set to NO.\n",
    "\n",
    "##### Removing Outliers\n",
    "- numoutlieriter: maximum number of outlier removal iterations. Default is 5.To turn off outlier removal, set this parameter to 0.\n",
    "- numoutlierevec: number of principal components along which to remove outliers during each outlier removal iteration.  Default is 10.\n",
    "- outliersigmathresh: number of standard deviations which an individual must exceed, along one of the top (numoutlierevec) principal components, in order for that individual to be removed as an outlier.  Default is 6.0.\n",
    "\n",
    "##### Shrink Mode\n",
    "- shrinkmode: YES  (default NO) \n",
    "A problem with smartpca is that samples used to calculate the PC axes \n",
    "\"stretch\" the axes.  So that 2 populations in fact genetically identical \n",
    "(2 independent samples from the same underlying population) will appear different \n",
    "if one is used to compute axes, and one not.  shrinkmode: YES is an attempt \n",
    "to solve this problem.  \n",
    "*** warning *** shrinkmode is slow and will greatly increase the runtime. \n",
    "(NEW) New version:  newshrink:  YES technical variation of shrinkmode,  should be (slightly) \n",
    "- autoshrink: YES  (default NO)  A new method (Liu, Dobriban, Singer: https://arxiv.org/pdf/1611.05550.pdf) of eigenvalue shrinkage. This costs little in CPU, but the results seem slightly worse than shrinkmode: YES.  \n",
    "\n",
    "##### Fst Estimation\n",
    "- fstonly: If set to YES, then skip PCA and just calculate FST values. The default value for this parameter is NO."
   ]
  }
 ],
 "metadata": {
  "kernelspec": {
   "display_name": "Python 3 (ipykernel)",
   "language": "python",
   "name": "python3"
  },
  "language_info": {
   "codemirror_mode": {
    "name": "ipython",
    "version": 3
   },
   "file_extension": ".py",
   "mimetype": "text/x-python",
   "name": "python",
   "nbconvert_exporter": "python",
   "pygments_lexer": "ipython3",
   "version": "3.12.6"
  }
 },
 "nbformat": 4,
 "nbformat_minor": 5
}
