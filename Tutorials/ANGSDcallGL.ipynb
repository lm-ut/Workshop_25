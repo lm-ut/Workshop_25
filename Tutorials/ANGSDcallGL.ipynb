{
 "cells": [
  {
   "cell_type": "markdown",
   "id": "88368b04-e2fa-428d-a4d3-feee2b596730",
   "metadata": {},
   "source": [
    "# Genotype likelihood (GL) calling with ANGSD\n",
    "This script calls genotype likelihoods (GL) and genotype probabilities (GP) from a list of bams that in this case contains just one single individual.\n",
    "\n",
    "The resulting outputfile of this script serves as the input for the next step of imputation with BEAGLE 4.1.\n",
    "\n",
    "More information about preparing BEAGLE input with ANGSD:\n",
    "- https://www.popgen.dk/angsd/index.php/Genotype_Likelihoods\n",
    "- http://www.popgen.dk/angsd/index.php/Beagle_input\n",
    "\n",
    "\n",
    "* -dovcf generates a vcf\n",
    "* -GL generates genotype likelihoos\n",
    "* -doGlf creates a BEAGLE input file with GL\n"
   ]
  },
  {
   "cell_type": "code",
   "execution_count": null,
   "id": "7002532f-e03c-4eef-b17e-40f32fe1cf4d",
   "metadata": {},
   "outputs": [],
   "source": [
    "#!/bin/bash\n",
    "#SBATCH -J AngsdGLcall\n",
    "#SBATCH --time=2:00:00\n",
    "#SBATCH --mem=5g\n",
    "#SBATCH -A ealloc_e7679_project1-tk-echo\n",
    "#SBATCH --ntasks=1\n",
    "#SBATCH --cpus-per-task 5\n",
    "#SBATCH --output=AngsdOut.txt\n",
    "\n",
    "module load angsd/0.917\n",
    "\n",
    "bams=/gpfs/helios/projects/echo_workshops/project.1.tk/data/KOS028_0.1.bams\n",
    "sites=/gpfs/helios/projects/echo_workshops/project.1.tk/data/uk10k_chr22_maf0.05.pos\n",
    "\n",
    "# Genotype likelihood (GL) calling with ANGSD\n",
    "# This script calls genotype likelihoods (GL) and genotype probabilities (GP) from a list of bams that in this case contains just one single individual. \n",
    "# The resulting outputfile of this script serves as the input for the next step of imputation with BEAGLE 4.1.\n",
    "# More information about preparing BEAGLE input with ANGSD:\n",
    "# https://www.popgen.dk/angsd/index.php/Genotype_Likelihoods\n",
    "# http://www.popgen.dk/angsd/index.php/Beagle_input\n",
    "# -dovcf generates a vcf, -GL generates genotype likelihoos, -doGlf creates a BEAGLE input file with GL\n",
    "\n",
    "angsd -b ${bams} -dovcf 1 -GL 1 -dopost 1 -nThreads 10 -doGlf 2 -doMajorMinor 1 -doMaf 1 -CheckBamHeaders 0 -r chr22: -sites ${sites} -out KOS028_GL\n",
    "\n",
    "# Variant range only works with indexed bams, for this:\n",
    "# module load samtools/1.19\n",
    "# samtools index \n",
    "# with indexed bam and range set to chr 22 the cpu time used was 2.4 sec\n",
    "# output vcf field explanations, see:\n",
    "# https://www.google.com/url?sa=t&source=web&rct=j&opi=89978449&url=https://samtools.github.io/hts-specs/VCFv4.1.pdf&ved=2ahUKEwi7weS2w4mLAxWsZqQEHZ1fJn8QFnoECBoQAQ&usg=AOvVaw0ZnB2AserlLAW4xV1PLTaY\n",
    "# briefly, unphased GP and GL values are in order of REF/REF, HET, ALT/ALT\n",
    "# beagle file with normalized genotype likelihoods (not probabilities) that sum to 1\n",
    "\n",
    "# if a PROBLEM with chromosome reporting: Gretzinger derived files 'chr22', BEAGLE ref panel '22'\n",
    "# zcat KOS028_GL.vcf.gz|awk -F'\\t' -vOFS='\\t' '{ gsub(\"chr22\", \"22\", $1) ; print }'|gzip >KOS028_GLc.vcf.gz\n",
    "# No such problem with /gpfs/helios/projects/echo_workshops/project.1.tk/data/ALL.chr22.phase3_shapeit2_mvncall_integrated_v5b.20130502.genotypes_filtered_annotated.vcf.gz"
   ]
  },
  {
   "cell_type": "markdown",
   "id": "9e19f298-28ff-43c4-9b0d-55569a59c1bd",
   "metadata": {},
   "source": [
    " Variant range only works with indexed bams, for this:\n",
    " \n",
    " module load samtools/1.19\n",
    " samtools index \n",
    " with indexed bam and range set to chr 22 the cpu time used was 2.4 sec\n",
    " \n",
    " output vcf field explanations, see:\n",
    " https://www.google.com/url?sa=t&source=web&rct=j&opi=89978449&url=https://samtools.github.io/hts-specs/VCFv4.1.pdf&ved=2ahUKEwi7weS2w4mLAxWsZqQEHZ1fJn8QFnoECBoQAQ&usg=AOvVaw0ZnB2AserlLAW4xV1PLTaY\n",
    " \n",
    " briefly, unphased GP and GL values are in order of REF/REF, HET, ALT/ALT\n",
    " beagle file with normalized genotype likelihoods (not probabilities) that sum to 1\n",
    " \n",
    "\n",
    " if a PROBLEM with chromosome reporting: Gretzinger derived files 'chr22', BEAGLE ref panel '22'\n",
    " zcat KOS028_GL.vcf.gz|awk -F'\\t' -vOFS='\\t' '{ gsub(\"chr22\", \"22\", $1) ; print }'|gzip >KOS028_GLc.vcf.gz\n",
    " \n",
    " No such problem with /gpfs/helios/projects/echo_workshops/project.1.tk/data/ALL.chr22.phase3_shapeit2_mvncall_integrated_v5b.20130502.genotypes_filtered_annotated.vcf.gz"
   ]
  }
 ],
 "metadata": {
  "kernelspec": {
   "display_name": "Python 3 (ipykernel)",
   "language": "python",
   "name": "python3"
  },
  "language_info": {
   "codemirror_mode": {
    "name": "ipython",
    "version": 3
   },
   "file_extension": ".py",
   "mimetype": "text/x-python",
   "name": "python",
   "nbconvert_exporter": "python",
   "pygments_lexer": "ipython3",
   "version": "3.12.6"
  }
 },
 "nbformat": 4,
 "nbformat_minor": 5
}
