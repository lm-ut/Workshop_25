{
 "cells": [
  {
   "cell_type": "markdown",
   "id": "156ca7c3-5f57-4572-bb46-9bc79d0f5602",
   "metadata": {},
   "source": [
    "# Imputation with QUILT"
   ]
  },
  {
   "cell_type": "markdown",
   "id": "df2530f7-386f-4131-a38d-dcaf75be4c7f",
   "metadata": {},
   "source": [
    "## Step 1: Prepare reference panel"
   ]
  },
  {
   "cell_type": "markdown",
   "id": "689e50b2-1958-44cb-9920-b2af05476007",
   "metadata": {},
   "source": [
    "Note: this step is to illustrate how to prepare the reference panel for QUILT, but we will not be executing this code"
   ]
  },
  {
   "cell_type": "markdown",
   "id": "787ea311-86c4-4a3b-a35a-ba70c32740de",
   "metadata": {},
   "source": [
    "From your QC'd reference panel (e.g. 1000 genomes dataset), make haplotype and legend files:"
   ]
  },
  {
   "cell_type": "code",
   "execution_count": null,
   "id": "7c535e48-3d9a-49b6-8e16-cc29547bcb84",
   "metadata": {},
   "outputs": [],
   "source": [
    "bcftools convert --haplegendsample reference_panel reference_panel.vcf.gz"
   ]
  },
  {
   "cell_type": "markdown",
   "id": "0ebffe73-3cb5-46cf-a45f-a4bc950096db",
   "metadata": {},
   "source": [
    "Next, create the reference files with QUILT. You also need a genetic map for this. See: https://github.com/rwdavies/QUILT/blob/master/README_QUILT1.md"
   ]
  },
  {
   "cell_type": "code",
   "execution_count": null,
   "id": "823ca461-c0f9-4cbc-8156-10f093ebcc00",
   "metadata": {},
   "outputs": [],
   "source": [
    "./QUILT_prepare_reference.R \\\n",
    "--outputdir=/path_to_store_reference/ref_${chr} \\\n",
    "--tempdir=./temp_QUILT \\\n",
    "--chr=${chr} --regionStart=${begin} --regionEnd=${last} \\\n",
    "--buffer=250000 --nGen=100 \\\n",
    "--reference_haplotype_file=/path_to_haplo/${chr}_highcov_1KG.hap.gz \\\n",
    "--reference_legend_file=/path_to_legend/${chr}_highcov_1KG.legend.gz \\\n",
    "--genetic_map_file=/path_to_genetic_map/${chr}_genetic_map.map.gz"
   ]
  },
  {
   "cell_type": "markdown",
   "id": "30583c7f-4098-4254-b8bf-3ae184fb52e9",
   "metadata": {},
   "source": [
    "## Step 2: Imputation"
   ]
  },
  {
   "cell_type": "markdown",
   "id": "97ef54a3-490f-4945-bb33-77abdae4678f",
   "metadata": {},
   "source": [
    "Below, you can find the job script to perform the imputation across 21 windows, each spanning 5M bp. Below this script, we will go through the code step by step."
   ]
  },
  {
   "cell_type": "code",
   "execution_count": null,
   "id": "b0523bcd-f7ff-4d7e-a6cb-d0eb3dc33626",
   "metadata": {},
   "outputs": [],
   "source": [
    "#!/bin/bash\n",
    "#SBATCH -J QUILT\n",
    "#SBATCH --time=24:00:00\n",
    "#SBATCH --array 1-21%5\n",
    "#SBATCH --ntasks=5\n",
    "#SBATCH --mem=10g\n",
    "#SBATCH -A ealloc_e7679_project1-tk-echo\n",
    "#SBATCH --nodes=1\n",
    "\n",
    "your_user=\"\" #fill in your user name here\n",
    "\n",
    "export PATH=\"/gpfs/helios/home/etais/${your_user}/miniconda3/bin:${PATH}\"\n",
    "source activate quilt2\n",
    "\n",
    "mkdir -p QUILT_output\n",
    "mkdir -p temp_files_QUILT\n",
    "\n",
    "windows_file=\"/gpfs/helios/projects/echo_workshops/project.1.tk/data/QUILT_files/windows_to_be_imputed\"\n",
    "index=${SLURM_ARRAY_TASK_ID}\n",
    "read chr start end window <<< $(head -n ${index} ${windows_file} | tail -n 1)\n",
    "\n",
    "bam_dir=“/gpfs/helios/projects/echo_workshops/project.1.tk/data/QUILT_files/bam_list”\n",
    "output_dir=“/gpfs/helios/home/etais/${your_user}/QUILT_output”\n",
    "ref_dir=“/gpfs/helios/projects/echo_workshops/project.1.tk/data/QUILT_files/ref”\n",
    "pos_dir=“/gpfs/helios/projects/echo_workshops/project.1.tk/data/QUILT_files/posfiles”\n",
    "\n",
    "./QUILT/QUILT.R --outputdir=${ref_dir}/ref_${chr} \\\n",
    "--output_filename=${output_dir}/${chr}.${window}.${start}.${end}.vcf.gz \\\n",
    "--tempdir=/gpfs/helios/home/etais/${your_user}/temp_files_QUILT/temp.${chr} \\\n",
    "--chr=${chr} \\\n",
    "--regionStart=${start} \\\n",
    "--regionEnd=${end} \\\n",
    "--buffer=250000 \\\n",
    "--bamlist=${bamlist} \\\n",
    "--posfile=${pos_dir}/posfile_${chr}"
   ]
  },
  {
   "cell_type": "markdown",
   "id": "e9e1df47-5339-4dbd-b9dc-ac1d5d008f76",
   "metadata": {},
   "source": [
    "If you didn't already, let's install the conda environment for this session. You can find the conda at our github page: https://github.com/lm-ut/Workshop_25/ or in this folder: /gpfs/helios/projects/echo_workshops/project.1.tk/conda_env"
   ]
  },
  {
   "cell_type": "markdown",
   "id": "2a8fa567-85d6-4787-ac2d-0a39af265491",
   "metadata": {},
   "source": [
    "Download the quilt2.yml file. If this is the first time you install conda on this server, let's first download and install miniconda:"
   ]
  },
  {
   "cell_type": "code",
   "execution_count": null,
   "id": "f3f0d670-4727-4610-a0e6-e9ab391e82e5",
   "metadata": {},
   "outputs": [],
   "source": [
    "wget https://repo.anaconda.com/miniconda/Miniconda3-latest-Linux-x86_64.sh\n",
    "bash Miniconda3-latest-Linux-x86_64.sh"
   ]
  },
  {
   "cell_type": "markdown",
   "id": "1e1d7638-d128-4c97-b6d9-a6b3403a9743",
   "metadata": {},
   "source": [
    "Download the QUILT github repository:"
   ]
  },
  {
   "cell_type": "code",
   "execution_count": null,
   "id": "46ffde94-1828-48e6-8df1-882f4376d032",
   "metadata": {},
   "outputs": [],
   "source": [
    "git clone --recursive https://github.com/rwdavies/QUILT.git"
   ]
  },
  {
   "cell_type": "markdown",
   "id": "4e1fed11-5a77-4301-a260-66f61204f78e",
   "metadata": {},
   "source": [
    "Finally, create the quilt conda environment:"
   ]
  },
  {
   "cell_type": "code",
   "execution_count": null,
   "id": "1419b2a6-3367-4ff9-a9ed-e42cd928da0c",
   "metadata": {},
   "outputs": [],
   "source": [
    "conda env create -f quilt2.yml "
   ]
  },
  {
   "cell_type": "markdown",
   "id": "e5b8e48d-75d1-40eb-b185-97ad6690d9b3",
   "metadata": {},
   "source": [
    "Let's also create some folders to store the temporary files, and the QUILT output:"
   ]
  },
  {
   "cell_type": "code",
   "execution_count": null,
   "id": "c8c54661-5a23-449b-81b6-0a6eab1fec68",
   "metadata": {},
   "outputs": [],
   "source": [
    "mkdir -p QUILT_output\n",
    "mkdir -p temp_files_QUILT"
   ]
  },
  {
   "cell_type": "markdown",
   "id": "ce599fba-a05d-4723-9884-85b872968006",
   "metadata": {},
   "source": [
    "After installing the conda environment, you can activate this in the slurm script as follows:"
   ]
  },
  {
   "cell_type": "code",
   "execution_count": null,
   "id": "88ee29ec-34aa-4c2f-8d06-e3e8a52af8ce",
   "metadata": {},
   "outputs": [],
   "source": [
    "export PATH=\"/gpfs/helios/home/etais/${your_user}/miniconda3/bin:${PATH}\"\n",
    "source activate quilt2"
   ]
  },
  {
   "cell_type": "markdown",
   "id": "cf75bfbc-5e0c-4284-b76a-d4fd30490c57",
   "metadata": {},
   "source": [
    "We prepared a windows file to perform the imputation in 5M bp chunks. In the next lines, we define this windows file and by use of the SLURM_ARRAY we go through this file one line at a time."
   ]
  },
  {
   "cell_type": "code",
   "execution_count": null,
   "id": "b75a10af-8757-4f4c-a5fa-09820b2863cb",
   "metadata": {},
   "outputs": [],
   "source": [
    "windows_file=\"/gpfs/helios/projects/echo_workshops/project.1.tk/data/QUILT_files/windows_to_be_imputed\"\n",
    "index=${SLURM_ARRAY_TASK_ID}\n",
    "read chr start end window <<< $(head -n ${index} ${windows_file} | tail -n 1)"
   ]
  },
  {
   "cell_type": "markdown",
   "id": "206533e7-34f7-4e7e-9aa7-f980448a52ad",
   "metadata": {},
   "source": [
    "Next, we define where the bam file list, your output path, the reference files and the posfiles are located:"
   ]
  },
  {
   "cell_type": "code",
   "execution_count": null,
   "id": "cfdaa6ac-e210-410c-8ca7-881d03e9d4e1",
   "metadata": {},
   "outputs": [],
   "source": [
    "bam_dir=“/gpfs/helios/projects/echo_workshops/project.1.tk/data/QUILT_files/bam_list”\n",
    "output_dir=“/gpfs/helios/home/etais/${your_user}/QUILT_output”\n",
    "ref_dir=“/gpfs/helios/projects/echo_workshops/project.1.tk/data/QUILT_files/ref”\n",
    "pos_dir=“/gpfs/helios/projects/echo_workshops/project.1.tk/data/QUILT_files/posfiles”"
   ]
  },
  {
   "cell_type": "markdown",
   "id": "d906e2c0-3076-4364-906a-92f519c6e343",
   "metadata": {},
   "source": [
    "Then, run QUILT for each window"
   ]
  },
  {
   "cell_type": "code",
   "execution_count": null,
   "id": "195e2c7a-1a9a-425f-9b17-3e20662a6713",
   "metadata": {},
   "outputs": [],
   "source": [
    "./QUILT/QUILT.R --outputdir=${ref_dir}/ref_${chr} \\\n",
    "--output_filename=${output_dir}/${chr}.${window}.${start}.${end}.vcf.gz \\\n",
    "--tempdir=/gpfs/helios/home/etais/${your_user}/temp_files_QUILT/temp.${chr} \\\n",
    "--chr=${chr} \\\n",
    "--regionStart=${start} \\\n",
    "--regionEnd=${end} \\\n",
    "--buffer=250000 \\\n",
    "--bamlist=${bamlist} \\\n",
    "--posfile=${pos_dir}/posfile_${chr}"
   ]
  },
  {
   "cell_type": "markdown",
   "id": "3f966b5d-47b9-48e8-ae5a-432c26b2e41e",
   "metadata": {},
   "source": [
    "This step will take a few hours to run. We will continue with the output of this step tomorrow."
   ]
  },
  {
   "cell_type": "markdown",
   "id": "1d0fd014-cb72-41e2-b751-4b5a19f806de",
   "metadata": {},
   "source": [
    "## Step 3: Concatenation of the windows and chromosomes + Step 4: GP-to-GT correction"
   ]
  },
  {
   "cell_type": "markdown",
   "id": "a0e26c55-f949-46b1-847a-f59932aa5ad4",
   "metadata": {},
   "source": [
    "Below, you can find the script to perform the concatenation of (1) the windows and (2) the chromosomes. This is followed by GP-to-GT correction. The consequence of the GP-to-GT correction is loss of phasing."
   ]
  },
  {
   "cell_type": "code",
   "execution_count": null,
   "id": "1aa2427f-e86f-45ec-8e3a-0f3fda23f983",
   "metadata": {},
   "outputs": [],
   "source": [
    "#!/bin/bash\n",
    "#SBATCH -J concat_GP_to_GT\n",
    "#SBATCH --time=24:00:00\n",
    "#SBATCH --ntasks=5\n",
    "#SBATCH -A ealloc_e7679_project1-tk-echo\n",
    "#SBATCH --nodes=1\n",
    "\n",
    "module load bcftools/1.19\n",
    "\n",
    "your_user=\"\" #fill in your user name here\n",
    "\n",
    "output_dir=\"/gpfs/helios/projects/echo_workshops/project.1.tk/data/QUILT_output\"\n",
    "own_dir=\"/gpfs/helios/home/etais/${your_user}\"\n",
    "\n",
    "## Concatenation of the windows\n",
    "\n",
    "### Feel free to do this for chr1-19 and 21 and use your own imputed data for chr20 and chr22. Just make sure that everything is placed in the same folder in the end.\n",
    "\n",
    "for chr in {1..22}\n",
    "do\n",
    "n=$(ls ${output_dir}/chr${chr}/| grep gz$ | cut -d'_' -f2 | cut -d'.' -f1 | sort -n | tr '\\n' ' ' | sed 's/ /,/g' | rev | cut -c2- | rev)\n",
    "e=$(echo bcftools concat ${output_dir}/chr${chr}/chr${chr}.window_{${n}}.*.vcf.gz --threads 5 -Oz -o ${own_dir}/concat_chr${chr}.vcf.gz)\n",
    "eval $e &\n",
    "done &&\n",
    "wait\n",
    "\n",
    "## Concatenation of the chromosomes\n",
    "\n",
    "bcftools concat concat_chr1.vcf.gz concat_chr2.vcf.gz concat_chr3.vcf.gz concat_chr4.vcf.gz concat_chr5.vcf.gz concat_chr6.vcf.gz concat_chr7.vcf.gz concat_chr8.vcf.gz concat_chr9.vcf.gz concat_chr10.vcf.gz concat_chr11.vcf.gz concat_chr12.vcf.gz concat_chr13.vcf.gz concat_chr14.vcf.gz concat_chr15.vcf.gz concat_chr16.vcf.gz concat_chr17.vcf.gz concat_chr18.vcf.gz concat_chr19.vcf.gz concat_chr20.vcf.gz concat_chr21.vcf.gz concat_chr22.vcf.gz -Oz -o raw_imputed_data.vcf.gz  && \n",
    "tabix -p vcf raw_imputed_data.vcf.gz\n",
    "\n",
    "## GP-to-GT correction\n",
    "\n",
    "bcftools +tag2tag raw_imputed_data.vcf.gz -Oz -o GT_corrected_imputed_data.vcf.gz -- -t 1 --gp-to-gt\n",
    "tabix -p vcf GT_corrected_imputed_data.vcf.gz"
   ]
  }
 ],
 "metadata": {
  "kernelspec": {
   "display_name": "",
   "name": ""
  },
  "language_info": {
   "name": ""
  }
 },
 "nbformat": 4,
 "nbformat_minor": 5
}
