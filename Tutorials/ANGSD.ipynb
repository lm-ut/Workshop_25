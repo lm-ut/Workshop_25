{
 "cells": [
  {
   "cell_type": "markdown",
   "id": "f10e436b-1647-41a4-8183-e595a29479d2",
   "metadata": {},
   "source": [
    "### ANGSD Calls\n",
    "\n",
    "This script calls pseudo-haploid genotypes from a list of bam files"
   ]
  },
  {
   "cell_type": "markdown",
   "id": "a32bb2b0-0ca8-4d79-824f-2767b6d3177e",
   "metadata": {},
   "source": [
    "More info can be found here: https://www.popgen.dk/angsd/index.php/Haploid_calling\n"
   ]
  },
  {
   "cell_type": "markdown",
   "id": "a0325b8c-fd70-43cd-9427-d9cffa97dbff",
   "metadata": {},
   "source": [
    "Just copy paste the entire section below, do not worry about the commented sections"
   ]
  },
  {
   "cell_type": "code",
   "execution_count": null,
   "id": "e7be15b3-b102-4e00-a019-c74efdbcb1af",
   "metadata": {},
   "outputs": [],
   "source": [
    "#!/bin/bash\n",
    "#SBATCH -J callA\n",
    "#SBATCH --time=2:00:00\n",
    "#SBATCH --ntasks=1\n",
    "#SBATCH --mem=10g\n",
    "#SBATCH -A ealloc_e7679_project1-tk-echo\n",
    "#SBATCH --nodes=1\n",
    "#SBATCH --output=Acall.txt\n",
    "\n",
    "# https://www.popgen.dk/angsd/index.php/Haploid_calling\n",
    "# -doHaploCall [int] 1; sample a random base 2; most frequent base. Random base for ties \n",
    "# -doCounts 1; use -doCounts 1 in order to count the bases at each sites after filters. \n",
    "# angsd sites index uk10k_maf0.05.pos; if sites not indexed yet\n",
    "# wc -l /gpfs/helios/home/etais/hpc_tk_echo/Calling/uk10k_chr_maf0.05.pos -> 5526356 - 5.5 million common variants\n",
    "\n",
    "module load angsd/0.917\n",
    "angsd -b /gpfs/helios/home/etais/hpc_tk_echo/Calling/test/g.bams -doHaploCall 1 -doCounts 1 -CheckBamHeaders 0 -sites /gpfs/helios/home/etais/hpc_tk_echo/Calling/uk10k_chr_maf0.05.pos -out angsd_output\n",
    "\n",
    "haploToPlink angsd_output.haplo.gz angsd_output\n",
    "# sed -i.bak 's/N/0/g' angsd_output.tped   \n",
    "# Running 16 Hannover bams (all 1240K) took 17 min\n",
    "# Running 34 (16 Hannover plus 18 Hatherdene Close, incl 12 shotgun) takes 1 hour"
   ]
  },
  {
   "cell_type": "markdown",
   "id": "baf15619-842a-4388-908f-d7f6a2c41c63",
   "metadata": {},
   "source": [
    "Details about the section of the script:\n",
    "\n",
    "- -doHaploCall [int] 1; sample a random base 2; most frequent base. Random base for ties \n",
    "- -doCounts 1; use -doCounts 1 in order to count the bases at each sites after filters. \n",
    "- angsd sites index uk10k_maf0.05.pos; if sites not indexed yet\n",
    "- wc -l /gpfs/helios/home/etais/hpc_tk_echo/Calling/uk10k_chr_maf0.05.pos -> 5526356 - 5.5 million common variants"
   ]
  },
  {
   "cell_type": "markdown",
   "id": "2bb38acb-7b97-4ade-b0b8-3c7c618f2f63",
   "metadata": {},
   "source": [
    "After the job has finished run this sed command"
   ]
  },
  {
   "cell_type": "code",
   "execution_count": null,
   "id": "dff8b82b-5b69-42e1-b4d8-6f5662b765a3",
   "metadata": {},
   "outputs": [],
   "source": [
    "sed -i.bak 's/N/0/g' angsd_output.tped   "
   ]
  },
  {
   "cell_type": "markdown",
   "id": "c548adce-cc1a-4794-8f2b-c489cac7433c",
   "metadata": {},
   "source": [
    "The resulting file g_A.tped can be used as an input to PLINK"
   ]
  }
 ],
 "metadata": {
  "kernelspec": {
   "display_name": "Python 3 (ipykernel)",
   "language": "python",
   "name": "python3"
  },
  "language_info": {
   "codemirror_mode": {
    "name": "ipython",
    "version": 3
   },
   "file_extension": ".py",
   "mimetype": "text/x-python",
   "name": "python",
   "nbconvert_exporter": "python",
   "pygments_lexer": "ipython3",
   "version": "3.12.6"
  }
 },
 "nbformat": 4,
 "nbformat_minor": 5
}
