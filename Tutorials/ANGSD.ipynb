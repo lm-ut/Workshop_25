{
 "cells": [
  {
   "cell_type": "markdown",
   "metadata": {},
   "source": [
    "### ANGSD Calls\n",
    "\n",
    "This script calls pseudo-haploid genotypes from a list of bam files"
   ]
  },
  {
   "cell_type": "markdown",
   "metadata": {},
   "source": [
    "More info can be found here: https://www.popgen.dk/angsd/index.php/Haploid_calling\n"
   ]
  },
  {
   "cell_type": "markdown",
   "metadata": {},
   "source": [
    "To prepare the bam file list:"
   ]
  },
  {
   "cell_type": "code",
   "execution_count": null,
   "metadata": {},
   "outputs": [],
   "source": [
    "ls /gpfs/helios/projects/echo_workshops/project.1.tk/data/Gretzinger/ADN*.bam >ADN_HAD.bams\n",
    "ls /gpfs/helios/projects/echo_workshops/project.1.tk/data/Gretzinger/HAD*.bam >>ADN_HAD.bams"
   ]
  },
  {
   "cell_type": "markdown",
   "metadata": {},
   "source": [
    "Just copy paste the entire section below, do not worry about the commented sections"
   ]
  },
  {
   "cell_type": "code",
   "execution_count": null,
   "metadata": {},
   "outputs": [],
   "source": [
    "#!/bin/bash\n",
    "#SBATCH -J callA\n",
    "#SBATCH --time=2:00:00\n",
    "#SBATCH --ntasks=1\n",
    "#SBATCH --mem=10g\n",
    "#SBATCH -A ealloc_e7679_project1-tk-echo\n",
    "#SBATCH --nodes=1\n",
    "#SBATCH --output=Acall.txt\n",
    "\n",
    "# https://www.popgen.dk/angsd/index.php/Haploid_calling\n",
    "# -doHaploCall [int] 1; sample a random base 2; most frequent base. Random base for ties \n",
    "# -doCounts 1; use -doCounts 1 in order to count the bases at each sites after filters. \n",
    "# angsd sites index uk10k_maf0.05.pos; if sites not indexed yet\n",
    "# wc -l /gpfs/helios/home/etais/hpc_tk_echo/Calling/uk10k_chr_maf0.05.pos -> 5526356 - 5.5 million common variants\n",
    "\n",
    "module load angsd/0.917\n",
    "angsd -b /gpfs/helios/home/etais/hpc_tk_echo/Calling/test/g.bams -doHaploCall 1 -doCounts 1 -CheckBamHeaders 0 -sites /gpfs/helios/home/etais/hpc_tk_echo/Calling/uk10k_chr_maf0.05.pos -out angsd_output\n",
    "\n",
    "haploToPlink angsd_output.haplo.gz angsd_output\n",
    "# sed -i.bak 's/N/0/g' angsd_output.tped   \n",
    "# Running 16 Hannover bams (all 1240K) took 17 min\n",
    "# Running 34 (16 Hannover plus 18 Hatherdene Close, incl 12 shotgun) takes 1 hour"
   ]
  },
  {
   "cell_type": "markdown",
   "metadata": {},
   "source": [
    "Details about the section of the script:\n",
    "\n",
    "- -doHaploCall [int] 1; sample a random base 2; most frequent base. Random base for ties \n",
    "- -doCounts 1; use -doCounts 1 in order to count the bases at each sites after filters. \n",
    "- angsd sites index uk10k_maf0.05.pos; if sites not indexed yet\n",
    "- wc -l /gpfs/helios/home/etais/hpc_tk_echo/Calling/uk10k_chr_maf0.05.pos -> 5526356 - 5.5 million common variants"
   ]
  },
  {
   "cell_type": "markdown",
   "metadata": {},
   "source": [
    "After the job has finished run this sed command"
   ]
  },
  {
   "cell_type": "code",
   "execution_count": null,
   "metadata": {},
   "outputs": [],
   "source": [
    "sed -i.bak 's/N/0/g' angsd_output.tped   "
   ]
  },
  {
   "cell_type": "markdown",
   "metadata": {},
   "source": [
    "The resulting file g_A.tped can be used as an input to PLINK"
   ]
  }
 ],
 "metadata": {
  "kernelspec": {
   "display_name": "Python 3",
   "language": "python",
   "name": "python3"
  },
  "language_info": {
   "codemirror_mode": {
    "name": "ipython",
    "version": 3
   },
   "file_extension": ".py",
   "mimetype": "text/x-python",
   "name": "python",
   "nbconvert_exporter": "python",
   "pygments_lexer": "ipython3",
   "version": "3.6.9"
  }
 },
 "nbformat": 4,
 "nbformat_minor": 5
}
