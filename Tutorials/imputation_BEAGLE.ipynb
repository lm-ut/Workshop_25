{
 "cells": [
  {
   "cell_type": "markdown",
   "id": "a9abd796-a628-4638-b13e-9bcadb35873b",
   "metadata": {},
   "source": [
    "# Imputation with BEAGLE\n",
    "This script performs two-step imputation as described in Hui et al. 2020, https://www.nature.com/articles/s41598-020-75387-w.\n",
    "\n",
    "\n",
    "Briefly, genotypes will be imputed first from GL with BEAGLE 4.1 followed by removal of sites with low GP and a BEAGLE 5.5 step to complete the gaps  \n"
   ]
  },
  {
   "cell_type": "markdown",
   "id": "cf63ab05-92de-4237-8fd3-eac7e4b08f73",
   "metadata": {},
   "source": [
    "Just copy paste the entire section below, do not worry about the commented sections."
   ]
  },
  {
   "cell_type": "code",
   "execution_count": null,
   "id": "4e1f11fa-fe38-445e-8f09-9b7913b6c421",
   "metadata": {},
   "outputs": [],
   "source": [
    "#!/bin/bash\n",
    "#SBATCH -J BEAGLE\n",
    "#SBATCH --time=2:00:00\n",
    "#SBATCH --mem=5g\n",
    "#SBATCH --ntasks=1\n",
    "#SBATCH -A ealloc_e7679_project1-tk-echo\n",
    "#SBATCH --cpus-per-task 1\n",
    "#SBATCH --output=BEAGLE.txt\n",
    "\n",
    "module load any/java/1.8.0_265\n",
    "module load tabix/2013-12-16 \n",
    "module load bcftools/1.9\n",
    "\n",
    "# Imputation with BEAGLE\n",
    "# This script performs two-step imputation as described in Hui et al. 2020, https://www.nature.com/articles/s41598-020-75387-w\n",
    "# Briefly, genotypes will be imputed first from GL with BEAGLE 4.1 followed by removal of sites with low GP and a BEAGLE 5.5 step to complete the gaps  \n",
    "\n",
    "# BEAGLE4.1\n",
    "# java [memory options] -jar /path/beagle4.1.jar input ref map output\n",
    "\n",
    "refpan=/gpfs/helios/home/etais/hpc_tk_echo/BEAGLE/chr22.1kg.phase3.v5a.vcf.gz\n",
    "mapfile=/gpfs/helios/home/etais/hpc_tk_echo/BEAGLE/map/plink.chr22.GRCh37.map\n",
    "input=ADN013_GLc\n",
    "\n",
    "for i in {22..22}\n",
    "do\n",
    "outgl=ADN013_gl_chr${i}\n",
    "java -Xss5m -Xmx5g -jar /gpfs/helios/home/etais/hpc_tk_echo/BEAGLE/beagle.27Jan18.7e1.jar gl=${input}.vcf.gz ref=${refpan} map=${mapfile} out=${outgl} gprobs=true chrom=${i} window=5000 overlap=500\n",
    "tabix ${outgl}.vcf.gz\n",
    "# bcftools annotate -e 'GT=\"./.\"' ${outgl}.vcf.gz -Oz -o ${outgl}.GP99.vcf.gz\n",
    "bcftools view -i 'MAX(GP)>=0.99' ${outgl}.vcf.gz -Oz -o ${outgl}_GP99.vcf.gz\n",
    "tabix ${outgl}.GP99.vcf.gz\n",
    "done\n",
    "\n",
    "# BEAGLE5, http://faculty.washington.edu/browning/beagle/beagle_5.5_17Dec24.pdf manual\n",
    "for i in {22..22}\n",
    "do\n",
    "java -Xss5m -Xmx5g -jar /gpfs/helios/home/etais/hpc_tk_echo/BEAGLE/beagle.17Dec24.224.jar gt=${outgl}_GP99.vcf.gz ref=${refpan} map=${mapfile} out=${outgl}.imputed impute=true gp=true\n",
    "# also to get results on the variants called only\n",
    "# java -Xss5m -Xmx5g -jar /gpfs/helios/home/etais/hpc_tk_echo/BEAGLE/beagle.17Dec24.224.jar gt=${outgl}_GP99chr${i}.vcf.gz ref=${refpan} map=${mapfile} out=${outgl}.imputed_onlycalled impute=false gp=true\n",
    "tabix ${outgl}.imputed.vcf.gz\n",
    "# tabix ${outgl}.imputed_onlycalled.vcf.gz\n",
    "bcftools view -i 'MAX(GP)>=0.99' ${outgl}.imputed.vcf.gz -Oz -o ${outgl}_imputed_GP99.vcf.gz\n",
    "tabix ${outgl}_imputed_GP99.vcf.gz\n",
    "done\n",
    "# took 1 minute 23 sec with ADN013 chr22 1M region"
   ]
  }
 ],
 "metadata": {
  "kernelspec": {
   "display_name": "Python 3 (ipykernel)",
   "language": "python",
   "name": "python3"
  },
  "language_info": {
   "codemirror_mode": {
    "name": "ipython",
    "version": 3
   },
   "file_extension": ".py",
   "mimetype": "text/x-python",
   "name": "python",
   "nbconvert_exporter": "python",
   "pygments_lexer": "ipython3",
   "version": "3.12.6"
  }
 },
 "nbformat": 4,
 "nbformat_minor": 5
}
