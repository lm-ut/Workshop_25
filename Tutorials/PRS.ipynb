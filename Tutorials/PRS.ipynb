{
 "cells": [
  {
   "cell_type": "markdown",
   "id": "c07a8608-4a8c-463f-a9df-f91f20c8c3c1",
   "metadata": {},
   "source": [
    "# PRS calculation"
   ]
  },
  {
   "cell_type": "markdown",
   "id": "b84c963d-1bc3-45b0-bf17-def90b7e2386",
   "metadata": {},
   "source": [
    "In this session, we will calculate height PRS on aDNA samples. The tool we will use for this is called PRSice-2. More info can be found here: https://choishingwan.github.io/PRSice/"
   ]
  },
  {
   "cell_type": "markdown",
   "id": "cd17901a-ea01-40d6-ad61-b63fabaad267",
   "metadata": {},
   "source": [
    "For this session, we will again use the quilt2 conda, which you have already installed. If not, you can find it at our GitHub page https://github.com/lm-ut/Workshop_25/ or in this folder: /gpfs/helios/projects/echo_workshops/project.1.tk/conda_env"
   ]
  },
  {
   "cell_type": "markdown",
   "id": "7d5d2515-8c98-4267-95c8-e9a89297a9a9",
   "metadata": {},
   "source": [
    "### Input GWAS file"
   ]
  },
  {
   "cell_type": "markdown",
   "id": "a33f235a-f102-4cd2-ab37-051a44710917",
   "metadata": {},
   "source": [
    "We will calculate score for height, therefore we will use the most recent and biggest height GWAS from Yengo et al. 2022 (https://pubmed.ncbi.nlm.nih.gov/36224396/). Have a look at the file:"
   ]
  },
  {
   "cell_type": "code",
   "execution_count": null,
   "id": "a410227b-0194-4e60-b0b3-747d4d4d8222",
   "metadata": {},
   "outputs": [],
   "source": [
    "cd\n",
    "mkdir PRS_height\n",
    "cd PRS_height"
   ]
  },
  {
   "cell_type": "code",
   "execution_count": null,
   "id": "6a3efea4-b34f-4cbe-b538-22494ea3eb3f",
   "metadata": {},
   "outputs": [],
   "source": [
    "cp /gpfs/helios/projects/echo_workshops/project.1.tk/data/PRSice_files/GWAS_height_Yengo_2022 ."
   ]
  },
  {
   "cell_type": "code",
   "execution_count": null,
   "id": "77715658-4526-4427-a924-3cf8d7bb6e6d",
   "metadata": {},
   "outputs": [],
   "source": [
    "head GWAS_height_Yengo_2022"
   ]
  },
  {
   "cell_type": "markdown",
   "id": "a7257f44-dca3-4429-977a-cc95b0b8f573",
   "metadata": {},
   "source": [
    "How many SNPs are in the file? How many genome-wide significant (P-value < 5e-08) SNPs are present?"
   ]
  },
  {
   "cell_type": "code",
   "execution_count": null,
   "id": "6b22a4a0-613a-4aa0-a64e-56a10d5d2f47",
   "metadata": {},
   "outputs": [],
   "source": [
    "awk '$10 < 5e-08' GWAS_height_Yengo_2022 | wc -l"
   ]
  },
  {
   "cell_type": "markdown",
   "id": "f22d1d72-c6e3-4fae-aaf8-74c488da75aa",
   "metadata": {},
   "source": [
    "### PRSice-2"
   ]
  },
  {
   "cell_type": "markdown",
   "id": "d7c599c5-81f4-4660-a094-7fa9b5317955",
   "metadata": {},
   "source": [
    "We will calculate PRS for various P-value thresholds using PRSice-2. You can find the script here: /gpfs/helios/projects/echo_workshops/project.1.tk/scripts/PRSice/PRSice"
   ]
  },
  {
   "cell_type": "code",
   "execution_count": null,
   "id": "be5c8684-6afa-48f8-82b6-1eba39cafe28",
   "metadata": {},
   "outputs": [],
   "source": [
    "cp /gpfs/helios/projects/echo_workshops/project.1.tk/scripts/PRSice/PRSice/PRSice.R .\n",
    "cp /gpfs/helios/projects/echo_workshops/project.1.tk/scripts/PRSice/PRSice/PRSice_linux .\n",
    "cp /gpfs/helios/projects/echo_workshops/project.1.tk/data/PRSice_files/1000G_NFE_for_height_PRS.* .\n",
    "cp /gpfs/helios/projects/echo_workshops/project.1.tk/data/PRSice_files/England_Gretzinger_for_PRS.* .\n",
    "cp /gpfs/helios/projects/echo_workshops/project.1.tk/scripts/PRSice/PRS_height.slurm ."
   ]
  },
  {
   "cell_type": "code",
   "execution_count": null,
   "id": "5ddc4dfa-7567-4105-a501-96b4786f329a",
   "metadata": {},
   "outputs": [],
   "source": [
    "#!/bin/bash\n",
    "#SBATCH -J PRSice\n",
    "#SBATCH --time=01:00:00\n",
    "#SBATCH --ntasks=1\n",
    "#SBATCH -A ealloc_e7679_project1-tk-echo\n",
    "#SBATCH --nodes=1\n",
    "\n",
    "your_user=\"\" #fill in your user name here\n",
    "\n",
    "export PATH=\"/gpfs/helios/home/etais/${your_user}/miniconda3/bin:${PATH}\"\n",
    "source activate quilt2\n",
    "\n",
    "Rscript ./PRSice.R \\\n",
    "--prsice PRSice_linux \\\n",
    "--base GWAS_height_Yengo_2022 \\\n",
    "--target 1000G_NFE_for_height_PRS \\\n",
    "--snp CHR_POS_ID --chr CHR --bp POS --A1 EFFECT_ALLELE --A2 OTHER_ALLELE \\\n",
    "--stat BETA --beta \\\n",
    "--pvalue P \\\n",
    "--clump-kb 250 --clump-p 1 --clump-r2 0.1 \\\n",
    "--bar-levels 5e-08,1e-05,0.001,0.05,0.5,1 \\\n",
    "--fastscore \\\n",
    "--no-regress \\\n",
    "--print-snp \\\n",
    "--out PRS_height_1000G_NFE\n",
    "\n",
    "Rscript ./PRSice.R \\\n",
    "--prsice PRSice_linux \\\n",
    "--base GWAS_height_Yengo_2022 \\\n",
    "--target England_Gretzinger_for_PRS \\\n",
    "--snp CHR_POS_ID --chr CHR --bp POS --A1 EFFECT_ALLELE --A2 OTHER_ALLELE \\\n",
    "--stat BETA --beta \\\n",
    "--pvalue P \\\n",
    "--no-clump --extract PRS_height_1000G_NFE.snp \\\n",
    "--bar-levels 5e-08,1e-05,0.001,0.05,0.5,1 \\\n",
    "--fastscore \\\n",
    "--no-regress \\\n",
    "--print-snp \\\n",
    "--out PRS_height_Gretzinger"
   ]
  },
  {
   "cell_type": "markdown",
   "id": "a5675dab-f54e-413c-a4a7-43f9282acd2b",
   "metadata": {},
   "source": [
    "This creates several files. The raw PRS scores can be found in the files with .all_score extension. Further, in the files with extension .prsice, you can find some usefull information."
   ]
  },
  {
   "cell_type": "code",
   "execution_count": null,
   "id": "b5cebf39-f82f-4856-a937-02a839d25de0",
   "metadata": {},
   "outputs": [],
   "source": [
    "cat PRS_height_1000G_NFE.prsice\n",
    "cat PRS_height_Gretzinger.prsice"
   ]
  },
  {
   "cell_type": "markdown",
   "id": "b0ce2192-341f-4a52-8e9d-7bc5032af318",
   "metadata": {},
   "source": [
    "We will now PC-correct and standardize the scores."
   ]
  },
  {
   "cell_type": "code",
   "execution_count": null,
   "id": "5952b68f-96b9-4584-add5-fcfb50c282f9",
   "metadata": {},
   "outputs": [],
   "source": [
    "cp /gpfs/helios/projects/echo_workshops/project.1.tk/data/PRSice_files/PC_file .\n",
    "cp /gpfs/helios/projects/echo_workshops/project.1.tk/scripts/PRSice/PC_correction_standardization.R ."
   ]
  },
  {
   "cell_type": "code",
   "execution_count": null,
   "id": "01e3ffbe-ce1d-4274-b8e4-0594a9b150ee",
   "metadata": {},
   "outputs": [],
   "source": [
    "conda activate quilt2"
   ]
  },
  {
   "cell_type": "code",
   "execution_count": null,
   "id": "0813c2e2-46d1-4943-92dc-2cb81bc94350",
   "metadata": {},
   "outputs": [],
   "source": [
    "Rscript PC_correction_standardization.R \"PRS_height_1000G_NFE.all_score\" \"PRS_height_Gretzinger.all_score\" \"PC_file\""
   ]
  },
  {
   "cell_type": "markdown",
   "id": "3f78df7f-19e1-4dc8-afc9-d3039c6ce5a1",
   "metadata": {},
   "source": [
    "This will create two files: one with scaled scores for the 1000 genomes data and one with scaled scores for the Gretzinger data. For the other analyses, we will use the Pt_0.001 scores (raw, and scaled)."
   ]
  },
  {
   "cell_type": "code",
   "execution_count": null,
   "id": "7b04e649-e254-48d2-ae24-7bebcf6eb5ce",
   "metadata": {},
   "outputs": [],
   "source": [
    "awk '{print $1, $2, $5, $23}' PRS_height_scaled_scores_Gretzinger.txt | head"
   ]
  },
  {
   "cell_type": "markdown",
   "id": "7c521f5a-510d-4dcf-8a37-63985d9a4009",
   "metadata": {},
   "source": [
    "We can now make some plots per subpopulation."
   ]
  },
  {
   "cell_type": "code",
   "execution_count": null,
   "id": "c5aec660-9d7f-485b-8b36-acf237899491",
   "metadata": {},
   "outputs": [],
   "source": [
    "cp /gpfs/helios/projects/echo_workshops/project.1.tk/scripts/PRSice/post_PRS.R .\n",
    "cp /gpfs/helios/projects/echo_workshops/project.1.tk/data/PRSice_files/pop_file.txt ."
   ]
  },
  {
   "cell_type": "code",
   "execution_count": null,
   "id": "4a56274b-b8ad-4b6d-b7f7-685fbf2a1992",
   "metadata": {},
   "outputs": [],
   "source": [
    "Rscript post_PRS.R"
   ]
  },
  {
   "cell_type": "markdown",
   "id": "b4563dc7-5982-4bd5-b8d9-87f5aa617cd3",
   "metadata": {},
   "source": [
    "Feel free to create your own plots e.g. a forrest plot, histogram..."
   ]
  },
  {
   "cell_type": "code",
   "execution_count": null,
   "id": "b462d544-5cb8-45aa-b625-59bbabf80107",
   "metadata": {},
   "outputs": [],
   "source": []
  }
 ],
 "metadata": {
  "kernelspec": {
   "display_name": "",
   "name": ""
  },
  "language_info": {
   "name": ""
  }
 },
 "nbformat": 4,
 "nbformat_minor": 5
}
