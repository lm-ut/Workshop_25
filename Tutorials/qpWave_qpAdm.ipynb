{
 "cells": [
  {
   "cell_type": "markdown",
   "id": "26910945-abb6-485d-99d6-b4fdae05eeae",
   "metadata": {},
   "source": [
    "### qpWave and qpAdm\n",
    "\n",
    "qpWave and qpAdm allow to model a target population as a mixture of others, given a set of reference groups.\n",
    "\n",
    "Following (https://comppopgenworkshop2019.readthedocs.io/en/latest/contents/05_qpwave_qpadm/qpwave_qpadm.html):\n",
    "\n",
    "QpWave and qpAdm are tools for summarizing information from multiple F-statistics, to make demographic inferences. With qpWave and qpAdm we can:\n",
    "\n",
    "- Detect the minimum number of independent gene pools to explain a set of target populations (qpWave)\n",
    "- Testing sufficienty of an admixture model within the resolution of data (qpAdm)\n",
    "- Estimating admixture proportions (qpAdm)\n",
    "\n",
    "Both qpWave and qpAdm require input file of EIGENSTRAT format, for that we can use the F4_dataset.* we used for the F4 statistics."
   ]
  },
  {
   "cell_type": "code",
   "execution_count": null,
   "id": "3860bc25-6d87-4f19-8d94-93e45de41cc3",
   "metadata": {},
   "outputs": [],
   "source": [
    "mkdir qpAdm\n",
    "cd qpAdm"
   ]
  },
  {
   "cell_type": "markdown",
   "id": "0b67d631-b0a4-4b8e-8696-466ff8db9ae3",
   "metadata": {},
   "source": [
    "#### Prepare the Left and Right populations\n",
    "\n",
    "To run both qpWave and qpAdm we will need two simple text files: **right** and **left** files. Both files contain a list of populations, with one population per line. It is possible to also use single-sample groups. The population group we list must be available in the third colum of the .ind file.\n",
    "\n",
    "- The left file, should list the proxy sources of the admixture event we want to test with qpAdm.\n",
    "- The right file, should list the reference groups: populations differentialy related to the left population and the admixed target."
   ]
  },
  {
   "cell_type": "code",
   "execution_count": null,
   "id": "886915a3-be75-449d-aed6-6e21e6fcd26f",
   "metadata": {},
   "outputs": [],
   "source": [
    "echo -e \"\\FranceLIA.Anc_imputed\\nNedEMA.Anc_imputed\" > left.txt\n",
    "echo -e \"YRI\\nBulgarian.HO\\nCzech.HO\\nEnglish.HO\\nFrench.HO\\nItalian.North.HO\\nNorwegian.HO\\nScottish.HO\" > right.txt "
   ]
  },
  {
   "cell_type": "markdown",
   "id": "e0627f99-be2c-46e7-805a-00308454634d",
   "metadata": {},
   "source": [
    "### Running qpWave\n",
    "\n",
    "In order to detect the minimum number of independent gene pools to explain a set of target populations, we are going to run qpWave. qpWave allows to check whether there was any gene flow between the left and the right populations, with the aim to select groups that are as indipendent as possible.\n",
    "\n",
    "If the right and the left population are independent, we can then move to run qpAdm.\n",
    "\n",
    "#### preparing the par file\n",
    "As for all other EIGENSOFT/AdmixTools we are going to prepare a par file for the software."
   ]
  },
  {
   "cell_type": "raw",
   "id": "0ee4df8c-dae6-4349-8eab-fb8984925225",
   "metadata": {},
   "source": [
    "indivname: ../dataset/F4_dataset.ind\n",
    "snpname: ../dataset/F4_dataset.snp\n",
    "genotypename: ../dataset/F4_dataset.geno\n",
    "popleft: left.txt\n",
    "popright: right.txt\n",
    "details: YES\n",
    "allsnps: YES\n",
    "summary: YES"
   ]
  },
  {
   "cell_type": "code",
   "execution_count": null,
   "id": "90ba2031-e8f4-4b94-a326-4d53511b966e",
   "metadata": {},
   "outputs": [],
   "source": [
    "qpWave -p qpWave_qpAdm.par >> qpWave.log"
   ]
  },
  {
   "cell_type": "markdown",
   "id": "eab04b55-1452-43ab-9d50-c71acc8351a7",
   "metadata": {},
   "source": [
    "In the log file, qpWave list the file used, as well as the left and right populations considered for the run.\n",
    "\n",
    "We are interested at the last lines, where the ranking is. Specifically, we are going to focus at the last ranking row, that correspond to the highest ranking degree. Currently, we are testing N=2 left populations, so the maximum ranking will be N-1.\n",
    "\n",
    "We are looking for an indication that the populations considered are independent, a p-value < 0.05, at taildiff, will indicate that the selected groups are indeed independent."
   ]
  },
  {
   "cell_type": "markdown",
   "id": "c6d4daf9-6006-4642-aa24-7d420762aac8",
   "metadata": {},
   "source": [
    "### Running qpAdm\n",
    "\n",
    "So far, we have tested the left and the right groups, thus the proxy sources of the admixture event and the reference groups. We have not yet studied their relationship with the target admixed samples. Now that we know that the right and the left groups are independent, we can proceed running qpAdm with those samples to model the target admixed group.\n",
    "\n",
    "To run qpAdm, we need to add the target admixed group in the left.txt file. Be sure it is added as first in the list of left.txt"
   ]
  },
  {
   "cell_type": "code",
   "execution_count": null,
   "id": "12ef58f3-92ea-42b8-9aab-74ab6408ea0d",
   "metadata": {},
   "outputs": [],
   "source": [
    "sed  -i '1s/^/KoksijdeEMA.Anc_imputed\\n/' left.txt"
   ]
  },
  {
   "cell_type": "markdown",
   "id": "be6eee3e-77dc-4005-8ff2-3ef01b93f0d7",
   "metadata": {},
   "source": [
    "We can now run qpAdm with the same par file we create before, for qpWave."
   ]
  },
  {
   "cell_type": "code",
   "execution_count": null,
   "id": "5f3fdbc9-ab64-4f64-99ac-d40853995806",
   "metadata": {},
   "outputs": [],
   "source": [
    "qpAdm -p qpWave_qpAdm.par >> qpAdm.log"
   ]
  },
  {
   "cell_type": "markdown",
   "id": "2e7f0fc7-0f93-4ca3-bc10-2b516a41fee4",
   "metadata": {},
   "source": [
    "We modelled **KoksijdeEMA.Anc_imputed** as a mixture of FranceLIA.Anc_imputed and NedEMA.Anc_imputed (following the left.txt file).\n",
    "\n",
    "- best coefficients is listing the ancestry proporions assigned\n",
    "- std. errors are the standard errors computed via block jackknife\n",
    "- summ will given you the summary of the run"
   ]
  }
 ],
 "metadata": {
  "kernelspec": {
   "display_name": "Python 3 (ipykernel)",
   "language": "python",
   "name": "python3"
  },
  "language_info": {
   "codemirror_mode": {
    "name": "ipython",
    "version": 3
   },
   "file_extension": ".py",
   "mimetype": "text/x-python",
   "name": "python",
   "nbconvert_exporter": "python",
   "pygments_lexer": "ipython3",
   "version": "3.12.6"
  }
 },
 "nbformat": 4,
 "nbformat_minor": 5
}
